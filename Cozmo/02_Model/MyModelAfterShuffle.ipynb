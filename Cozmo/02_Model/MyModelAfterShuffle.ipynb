{
 "cells": [
  {
   "cell_type": "code",
   "execution_count": 4,
   "id": "974c1c25",
   "metadata": {},
   "outputs": [],
   "source": [
    "#source_folder = \"\\\\input\\\\\"\n",
    "#import splitfolders  # or import split_folders\n",
    "# set 400 aside for validation\n",
    "#splitfolders.fixed(source_folder, output= \"output\", seed=13, fixed=(400), oversample=False, group_prefix=None) # default values"
   ]
  },
  {
   "cell_type": "code",
   "execution_count": 5,
   "id": "6cfc0e5f",
   "metadata": {},
   "outputs": [
    {
     "name": "stdout",
     "output_type": "stream",
     "text": [
      "Found 6352 images belonging to 4 classes.\n",
      "Found 1600 images belonging to 4 classes.\n"
     ]
    }
   ],
   "source": [
    "import numpy as np\n",
    "import matplotlib.pyplot as plt\n",
    "import seaborn as sns\n",
    "import os\n",
    "\n",
    "from keras.utils import np_utils\n",
    "\n",
    "from keras.preprocessing.image import ImageDataGenerator\n",
    "from keras.models import Sequential\n",
    "from keras.layers import Conv2D, MaxPooling2D\n",
    "from keras.layers import Activation, Dropout, Flatten, Dense\n",
    "from keras import backend as K\n",
    "import keras.optimizers\n",
    "\n",
    "\n",
    "img_width, img_height = 240,320\n",
    "path_train_img = 'C:\\\\Users\\Anne\\\\Documents\\\\GIT\\\\Cozmo\\\\01_Collect_Images\\\\output\\\\train\\\\'\n",
    "path_validation_img = 'C:\\\\Users\\\\Anne\\\\Documents\\\\GIT\\\\Cozmo\\\\01_Collect_Images\\\\output\\\\val\\\\'\n",
    "\n",
    "epochs = 100\n",
    "batch_size = 30\n",
    "\n",
    "model = Sequential()\n",
    "model.add(Conv2D(32, (3, 3), input_shape=(240,320,3)))\n",
    "model.add(Activation('relu'))\n",
    "model.add(MaxPooling2D(pool_size=(2, 2)))\n",
    "\n",
    "model.add(Conv2D(32, (3, 3)))\n",
    "model.add(Activation('relu'))\n",
    "model.add(MaxPooling2D(pool_size=(2, 2)))\n",
    "\n",
    "model.add(Conv2D(64, (3, 3)))\n",
    "model.add(Activation('relu'))\n",
    "model.add(MaxPooling2D(pool_size=(2, 2)))\n",
    "\n",
    "model.add(Flatten())\n",
    "model.add(Dense(64))\n",
    "model.add(Activation('relu'))\n",
    "model.add(Dropout(0.5))\n",
    "model.add(Dense(4))\n",
    "model.add(Activation('softmax'))\n",
    "\n",
    "model.compile(loss='categorical_crossentropy',\n",
    "              optimizer='rmsprop',\n",
    "              metrics=['accuracy'])\n",
    "\n",
    "train_img = ImageDataGenerator(rescale=1./255,shear_range=0.2, zoom_range=0.2,horizontal_flip=True)\n",
    "\n",
    "test_img = ImageDataGenerator(rescale=1./255)\n",
    "\n",
    "train_generator = train_img.flow_from_directory(path_train_img,target_size=(img_width, img_height), \n",
    "                                                batch_size=batch_size,class_mode='categorical')\n",
    "\n",
    "validation_generator = test_img.flow_from_directory(path_validation_img,target_size=(img_width, img_height),\n",
    "                                                    batch_size=batch_size, class_mode='categorical')\n"
   ]
  },
  {
   "cell_type": "code",
   "execution_count": 6,
   "id": "e13ff898",
   "metadata": {},
   "outputs": [
    {
     "name": "stdout",
     "output_type": "stream",
     "text": [
      "Epoch 1/100\n",
      "212/212 [==============================] - 248s 1s/step - loss: 0.8248 - accuracy: 0.7206 - val_loss: 0.1238 - val_accuracy: 0.9625\n",
      "Epoch 2/100\n",
      "212/212 [==============================] - 246s 1s/step - loss: 0.2549 - accuracy: 0.9196 - val_loss: 0.0970 - val_accuracy: 0.9762\n",
      "Epoch 3/100\n",
      "212/212 [==============================] - 246s 1s/step - loss: 0.1495 - accuracy: 0.9564 - val_loss: 0.0300 - val_accuracy: 0.9894\n",
      "Epoch 4/100\n",
      "212/212 [==============================] - 249s 1s/step - loss: 0.1030 - accuracy: 0.9709 - val_loss: 0.0439 - val_accuracy: 0.9894\n",
      "Epoch 5/100\n",
      "212/212 [==============================] - 249s 1s/step - loss: 0.0855 - accuracy: 0.9791 - val_loss: 0.0073 - val_accuracy: 0.9962\n",
      "Epoch 6/100\n",
      "212/212 [==============================] - 250s 1s/step - loss: 0.0713 - accuracy: 0.9795 - val_loss: 0.0018 - val_accuracy: 1.0000\n",
      "Epoch 7/100\n",
      "212/212 [==============================] - 250s 1s/step - loss: 0.0698 - accuracy: 0.9810 - val_loss: 0.0042 - val_accuracy: 0.9981\n",
      "Epoch 8/100\n",
      "212/212 [==============================] - 245s 1s/step - loss: 0.0624 - accuracy: 0.9836 - val_loss: 0.0207 - val_accuracy: 0.9906\n",
      "Epoch 9/100\n",
      "212/212 [==============================] - 244s 1s/step - loss: 0.0545 - accuracy: 0.9861 - val_loss: 0.0029 - val_accuracy: 0.9987\n",
      "Epoch 10/100\n",
      "212/212 [==============================] - 244s 1s/step - loss: 0.0488 - accuracy: 0.9854 - val_loss: 9.5217e-04 - val_accuracy: 1.0000\n",
      "Epoch 11/100\n",
      "212/212 [==============================] - 244s 1s/step - loss: 0.0418 - accuracy: 0.9893 - val_loss: 0.0028 - val_accuracy: 0.9994\n",
      "Epoch 12/100\n",
      "212/212 [==============================] - 244s 1s/step - loss: 0.0434 - accuracy: 0.9882 - val_loss: 0.0107 - val_accuracy: 0.9969\n",
      "Epoch 13/100\n",
      "212/212 [==============================] - 245s 1s/step - loss: 0.0472 - accuracy: 0.9891 - val_loss: 0.0121 - val_accuracy: 0.9987\n",
      "Epoch 14/100\n",
      "212/212 [==============================] - 244s 1s/step - loss: 0.0472 - accuracy: 0.9887 - val_loss: 0.0044 - val_accuracy: 0.9981\n",
      "Epoch 15/100\n",
      "212/212 [==============================] - 246s 1s/step - loss: 0.0463 - accuracy: 0.9902 - val_loss: 0.0097 - val_accuracy: 0.9969\n",
      "Epoch 16/100\n",
      "212/212 [==============================] - 244s 1s/step - loss: 0.0401 - accuracy: 0.9910 - val_loss: 9.4103e-04 - val_accuracy: 1.0000\n",
      "Epoch 17/100\n",
      "212/212 [==============================] - 244s 1s/step - loss: 0.0528 - accuracy: 0.9910 - val_loss: 6.1811e-05 - val_accuracy: 1.0000\n",
      "Epoch 18/100\n",
      "212/212 [==============================] - 243s 1s/step - loss: 0.0428 - accuracy: 0.9906 - val_loss: 6.5090e-05 - val_accuracy: 1.0000\n",
      "Epoch 19/100\n",
      "212/212 [==============================] - 244s 1s/step - loss: 0.0380 - accuracy: 0.9899 - val_loss: 0.0030 - val_accuracy: 0.9987\n",
      "Epoch 20/100\n",
      "212/212 [==============================] - 245s 1s/step - loss: 0.0378 - accuracy: 0.9909 - val_loss: 3.9848e-04 - val_accuracy: 1.0000\n",
      "Epoch 21/100\n",
      "212/212 [==============================] - 244s 1s/step - loss: 0.0871 - accuracy: 0.9904 - val_loss: 0.0015 - val_accuracy: 0.9987\n",
      "Epoch 22/100\n",
      "212/212 [==============================] - 245s 1s/step - loss: 0.0447 - accuracy: 0.9915 - val_loss: 8.4863e-05 - val_accuracy: 1.0000\n",
      "Epoch 23/100\n",
      "212/212 [==============================] - 245s 1s/step - loss: 0.0473 - accuracy: 0.9906 - val_loss: 0.0046 - val_accuracy: 0.9981\n",
      "Epoch 24/100\n",
      "212/212 [==============================] - 245s 1s/step - loss: 0.0358 - accuracy: 0.9923 - val_loss: 0.0018 - val_accuracy: 0.9994\n",
      "Epoch 25/100\n",
      "212/212 [==============================] - 243s 1s/step - loss: 0.0448 - accuracy: 0.9921 - val_loss: 0.0033 - val_accuracy: 0.9987\n",
      "Epoch 26/100\n",
      "212/212 [==============================] - 244s 1s/step - loss: 0.0516 - accuracy: 0.9909 - val_loss: 0.0022 - val_accuracy: 0.9981\n",
      "Epoch 27/100\n",
      "212/212 [==============================] - 245s 1s/step - loss: 0.0662 - accuracy: 0.9896 - val_loss: 0.0013 - val_accuracy: 0.9994\n",
      "Epoch 28/100\n",
      "212/212 [==============================] - 244s 1s/step - loss: 0.0283 - accuracy: 0.9937 - val_loss: 2.7430e-06 - val_accuracy: 1.0000\n",
      "Epoch 29/100\n",
      "212/212 [==============================] - 243s 1s/step - loss: 0.0819 - accuracy: 0.9901 - val_loss: 0.0015 - val_accuracy: 1.0000\n",
      "Epoch 30/100\n",
      "212/212 [==============================] - 244s 1s/step - loss: 0.1150 - accuracy: 0.9907 - val_loss: 2.8696e-04 - val_accuracy: 1.0000\n",
      "Epoch 31/100\n",
      "212/212 [==============================] - 244s 1s/step - loss: 0.0447 - accuracy: 0.9921 - val_loss: 0.0455 - val_accuracy: 0.9831\n",
      "Epoch 32/100\n",
      "212/212 [==============================] - 244s 1s/step - loss: 0.0457 - accuracy: 0.9907 - val_loss: 0.0022 - val_accuracy: 0.9987\n",
      "Epoch 33/100\n",
      "212/212 [==============================] - 244s 1s/step - loss: 0.0576 - accuracy: 0.9912 - val_loss: 4.5635e-05 - val_accuracy: 1.0000\n",
      "Epoch 34/100\n",
      "212/212 [==============================] - 243s 1s/step - loss: 0.0387 - accuracy: 0.9924 - val_loss: 2.9104e-04 - val_accuracy: 1.0000\n",
      "Epoch 35/100\n",
      "212/212 [==============================] - 244s 1s/step - loss: 0.0539 - accuracy: 0.9921 - val_loss: 8.4826e-04 - val_accuracy: 1.0000\n",
      "Epoch 36/100\n",
      "212/212 [==============================] - 243s 1s/step - loss: 0.0738 - accuracy: 0.9924 - val_loss: 7.5458e-05 - val_accuracy: 1.0000\n",
      "Epoch 37/100\n",
      "212/212 [==============================] - 243s 1s/step - loss: 0.0396 - accuracy: 0.9935 - val_loss: 5.1402e-06 - val_accuracy: 1.0000\n",
      "Epoch 38/100\n",
      "212/212 [==============================] - 243s 1s/step - loss: 0.0369 - accuracy: 0.9940 - val_loss: 5.1632e-08 - val_accuracy: 1.0000\n",
      "Epoch 39/100\n",
      "212/212 [==============================] - 244s 1s/step - loss: 0.0620 - accuracy: 0.9932 - val_loss: 4.1709e-04 - val_accuracy: 1.0000\n",
      "Epoch 40/100\n",
      "212/212 [==============================] - 243s 1s/step - loss: 0.0327 - accuracy: 0.9943 - val_loss: 1.5825e-05 - val_accuracy: 1.0000\n",
      "Epoch 41/100\n",
      "212/212 [==============================] - 243s 1s/step - loss: 0.0324 - accuracy: 0.9937 - val_loss: 0.0159 - val_accuracy: 0.9937\n",
      "Epoch 42/100\n",
      "212/212 [==============================] - 244s 1s/step - loss: 0.0771 - accuracy: 0.9901 - val_loss: 2.7028e-05 - val_accuracy: 1.0000\n",
      "Epoch 43/100\n",
      "212/212 [==============================] - 244s 1s/step - loss: 0.0653 - accuracy: 0.9928 - val_loss: 9.8324e-06 - val_accuracy: 1.0000\n",
      "Epoch 44/100\n",
      "212/212 [==============================] - 245s 1s/step - loss: 0.0724 - accuracy: 0.9896 - val_loss: 1.2421e-05 - val_accuracy: 1.0000\n",
      "Epoch 45/100\n",
      "212/212 [==============================] - 243s 1s/step - loss: 0.0627 - accuracy: 0.9934 - val_loss: 5.5738e-04 - val_accuracy: 1.0000\n",
      "Epoch 46/100\n",
      "212/212 [==============================] - 243s 1s/step - loss: 0.0799 - accuracy: 0.9924 - val_loss: 1.3099e-06 - val_accuracy: 1.0000\n",
      "Epoch 47/100\n",
      "212/212 [==============================] - 243s 1s/step - loss: 0.0342 - accuracy: 0.9939 - val_loss: 3.3494e-05 - val_accuracy: 1.0000\n",
      "Epoch 48/100\n",
      "212/212 [==============================] - 243s 1s/step - loss: 0.0756 - accuracy: 0.9918 - val_loss: 8.2720e-05 - val_accuracy: 1.0000\n",
      "Epoch 49/100\n",
      "212/212 [==============================] - 243s 1s/step - loss: 0.0591 - accuracy: 0.9926 - val_loss: 0.0010 - val_accuracy: 1.0000\n",
      "Epoch 50/100\n",
      "212/212 [==============================] - 243s 1s/step - loss: 0.0566 - accuracy: 0.9939 - val_loss: 2.0742e-04 - val_accuracy: 1.0000\n",
      "Epoch 51/100\n",
      "212/212 [==============================] - 243s 1s/step - loss: 0.0752 - accuracy: 0.9943 - val_loss: 6.9005e-06 - val_accuracy: 1.0000\n",
      "Epoch 52/100\n",
      "212/212 [==============================] - 243s 1s/step - loss: 0.0624 - accuracy: 0.9943 - val_loss: 0.0016 - val_accuracy: 0.9987\n",
      "Epoch 53/100\n",
      "212/212 [==============================] - 243s 1s/step - loss: 0.0618 - accuracy: 0.9939 - val_loss: 8.3930e-05 - val_accuracy: 1.0000\n",
      "Epoch 54/100\n",
      "212/212 [==============================] - 243s 1s/step - loss: 0.0863 - accuracy: 0.9935 - val_loss: 6.7690e-05 - val_accuracy: 1.0000\n",
      "Epoch 55/100\n",
      "212/212 [==============================] - 243s 1s/step - loss: 0.0757 - accuracy: 0.9940 - val_loss: 1.2292e-06 - val_accuracy: 1.0000\n",
      "Epoch 56/100\n",
      "212/212 [==============================] - 243s 1s/step - loss: 0.0431 - accuracy: 0.9953 - val_loss: 2.0763e-05 - val_accuracy: 1.0000\n"
     ]
    },
    {
     "name": "stdout",
     "output_type": "stream",
     "text": [
      "Epoch 57/100\n",
      "212/212 [==============================] - 243s 1s/step - loss: 0.0536 - accuracy: 0.9951 - val_loss: 5.2502e-06 - val_accuracy: 1.0000\n",
      "Epoch 58/100\n",
      "212/212 [==============================] - 243s 1s/step - loss: 0.0733 - accuracy: 0.9948 - val_loss: 1.2619e-06 - val_accuracy: 1.0000\n",
      "Epoch 59/100\n",
      "212/212 [==============================] - 243s 1s/step - loss: 0.0387 - accuracy: 0.9940 - val_loss: 2.2063e-06 - val_accuracy: 1.0000\n",
      "Epoch 60/100\n",
      "212/212 [==============================] - 243s 1s/step - loss: 0.0618 - accuracy: 0.9928 - val_loss: 3.0619e-07 - val_accuracy: 1.0000\n",
      "Epoch 61/100\n",
      "212/212 [==============================] - 243s 1s/step - loss: 0.0469 - accuracy: 0.9948 - val_loss: 7.5660e-04 - val_accuracy: 1.0000\n",
      "Epoch 62/100\n",
      "212/212 [==============================] - 243s 1s/step - loss: 0.0268 - accuracy: 0.9950 - val_loss: 1.2666e-09 - val_accuracy: 1.0000\n",
      "Epoch 63/100\n",
      "212/212 [==============================] - 243s 1s/step - loss: 0.0311 - accuracy: 0.9957 - val_loss: 6.4398e-04 - val_accuracy: 0.9994\n",
      "Epoch 64/100\n",
      "212/212 [==============================] - 243s 1s/step - loss: 0.0648 - accuracy: 0.9942 - val_loss: 5.8119e-07 - val_accuracy: 1.0000\n",
      "Epoch 65/100\n",
      "212/212 [==============================] - 243s 1s/step - loss: 0.0562 - accuracy: 0.9940 - val_loss: 0.0045 - val_accuracy: 1.0000\n",
      "Epoch 66/100\n",
      "212/212 [==============================] - 243s 1s/step - loss: 0.0639 - accuracy: 0.9924 - val_loss: 3.2460e-07 - val_accuracy: 1.0000\n",
      "Epoch 67/100\n",
      "212/212 [==============================] - 243s 1s/step - loss: 0.0425 - accuracy: 0.9954 - val_loss: 3.7253e-10 - val_accuracy: 1.0000\n",
      "Epoch 68/100\n",
      "212/212 [==============================] - 243s 1s/step - loss: 0.1462 - accuracy: 0.9926 - val_loss: 5.3607e-06 - val_accuracy: 1.0000\n",
      "Epoch 69/100\n",
      "212/212 [==============================] - 243s 1s/step - loss: 0.0446 - accuracy: 0.9951 - val_loss: 0.0083 - val_accuracy: 0.9987\n",
      "Epoch 70/100\n",
      "212/212 [==============================] - 243s 1s/step - loss: 0.1283 - accuracy: 0.9928 - val_loss: 2.6073e-06 - val_accuracy: 1.0000\n",
      "Epoch 71/100\n",
      "212/212 [==============================] - 243s 1s/step - loss: 0.0415 - accuracy: 0.9950 - val_loss: 1.1478e-06 - val_accuracy: 1.0000\n",
      "Epoch 72/100\n",
      "212/212 [==============================] - 243s 1s/step - loss: 0.1093 - accuracy: 0.9935 - val_loss: 1.5243e-06 - val_accuracy: 1.0000\n",
      "Epoch 73/100\n",
      "212/212 [==============================] - 243s 1s/step - loss: 0.0738 - accuracy: 0.9937 - val_loss: 3.4886e-05 - val_accuracy: 1.0000\n",
      "Epoch 74/100\n",
      "212/212 [==============================] - 243s 1s/step - loss: 0.0467 - accuracy: 0.9929 - val_loss: 9.2341e-06 - val_accuracy: 1.0000\n",
      "Epoch 75/100\n",
      "212/212 [==============================] - 243s 1s/step - loss: 0.0662 - accuracy: 0.9910 - val_loss: 0.0018 - val_accuracy: 0.9994\n",
      "Epoch 76/100\n",
      "212/212 [==============================] - 243s 1s/step - loss: 0.0786 - accuracy: 0.9931 - val_loss: 8.7478e-07 - val_accuracy: 1.0000\n",
      "Epoch 77/100\n",
      "212/212 [==============================] - 244s 1s/step - loss: 0.0361 - accuracy: 0.9961 - val_loss: 1.0620e-05 - val_accuracy: 1.0000\n",
      "Epoch 78/100\n",
      "212/212 [==============================] - 243s 1s/step - loss: 0.0608 - accuracy: 0.9929 - val_loss: 3.7349e-07 - val_accuracy: 1.0000\n",
      "Epoch 79/100\n",
      "212/212 [==============================] - 243s 1s/step - loss: 0.0514 - accuracy: 0.9953 - val_loss: 0.0000e+00 - val_accuracy: 1.0000\n",
      "Epoch 80/100\n",
      "212/212 [==============================] - 243s 1s/step - loss: 0.0814 - accuracy: 0.9940 - val_loss: 0.5103 - val_accuracy: 0.9706\n",
      "Epoch 81/100\n",
      "212/212 [==============================] - 243s 1s/step - loss: 0.1380 - accuracy: 0.9928 - val_loss: 1.9669e-08 - val_accuracy: 1.0000\n",
      "Epoch 82/100\n",
      "212/212 [==============================] - 243s 1s/step - loss: 0.1013 - accuracy: 0.9931 - val_loss: 7.2493e-08 - val_accuracy: 1.0000\n",
      "Epoch 83/100\n",
      "212/212 [==============================] - 244s 1s/step - loss: 0.2309 - accuracy: 0.9902 - val_loss: 2.4398e-07 - val_accuracy: 1.0000\n",
      "Epoch 84/100\n",
      "212/212 [==============================] - 244s 1s/step - loss: 0.0729 - accuracy: 0.9946 - val_loss: 0.0053 - val_accuracy: 0.9987\n",
      "Epoch 85/100\n",
      "212/212 [==============================] - 244s 1s/step - loss: 0.0692 - accuracy: 0.9928 - val_loss: 3.0640e-06 - val_accuracy: 1.0000\n",
      "Epoch 86/100\n",
      "212/212 [==============================] - 251s 1s/step - loss: 0.0403 - accuracy: 0.9950 - val_loss: 1.3085e-06 - val_accuracy: 1.0000\n",
      "Epoch 87/100\n",
      "212/212 [==============================] - 246s 1s/step - loss: 0.0699 - accuracy: 0.9939 - val_loss: 4.5491e-06 - val_accuracy: 1.0000\n",
      "Epoch 88/100\n",
      "212/212 [==============================] - 243s 1s/step - loss: 0.1260 - accuracy: 0.9907 - val_loss: 3.7291e-04 - val_accuracy: 1.0000\n",
      "Epoch 89/100\n",
      "212/212 [==============================] - 243s 1s/step - loss: 0.0974 - accuracy: 0.9923 - val_loss: 0.0038 - val_accuracy: 0.9994\n",
      "Epoch 90/100\n",
      "212/212 [==============================] - 243s 1s/step - loss: 0.1264 - accuracy: 0.9926 - val_loss: 0.0000e+00 - val_accuracy: 1.0000\n",
      "Epoch 91/100\n",
      "212/212 [==============================] - 243s 1s/step - loss: 0.1233 - accuracy: 0.9915 - val_loss: 6.0511e-05 - val_accuracy: 1.0000\n",
      "Epoch 92/100\n",
      "212/212 [==============================] - 243s 1s/step - loss: 0.0539 - accuracy: 0.9943 - val_loss: 3.0927e-05 - val_accuracy: 1.0000\n",
      "Epoch 93/100\n",
      "212/212 [==============================] - 243s 1s/step - loss: 0.1172 - accuracy: 0.9926 - val_loss: 5.8635e-08 - val_accuracy: 1.0000\n",
      "Epoch 94/100\n",
      "212/212 [==============================] - 244s 1s/step - loss: 0.1119 - accuracy: 0.9937 - val_loss: 4.8932e-06 - val_accuracy: 1.0000\n",
      "Epoch 95/100\n",
      "212/212 [==============================] - 247s 1s/step - loss: 0.0574 - accuracy: 0.9950 - val_loss: 3.5078e-07 - val_accuracy: 1.0000\n",
      "Epoch 96/100\n",
      "212/212 [==============================] - 247s 1s/step - loss: 0.1397 - accuracy: 0.9917 - val_loss: 1.6072e-05 - val_accuracy: 1.0000\n",
      "Epoch 97/100\n",
      "212/212 [==============================] - 244s 1s/step - loss: 0.1289 - accuracy: 0.9909 - val_loss: 2.4039e-06 - val_accuracy: 1.0000\n",
      "Epoch 98/100\n",
      "212/212 [==============================] - 243s 1s/step - loss: 0.0788 - accuracy: 0.9937 - val_loss: 1.4522e-06 - val_accuracy: 1.0000\n",
      "Epoch 99/100\n",
      "212/212 [==============================] - 243s 1s/step - loss: 0.1679 - accuracy: 0.9931 - val_loss: 0.0074 - val_accuracy: 0.9994\n",
      "Epoch 100/100\n",
      "212/212 [==============================] - 244s 1s/step - loss: 0.6583 - accuracy: 0.9940 - val_loss: 0.0000e+00 - val_accuracy: 1.0000\n"
     ]
    }
   ],
   "source": [
    "history = model.fit(\n",
    "    train_generator,\n",
    "    epochs=epochs,\n",
    "    validation_data=validation_generator)"
   ]
  },
  {
   "cell_type": "code",
   "execution_count": 7,
   "id": "bac6a0e1",
   "metadata": {},
   "outputs": [
    {
     "name": "stdout",
     "output_type": "stream",
     "text": [
      "Model: \"sequential_1\"\n",
      "_________________________________________________________________\n",
      "Layer (type)                 Output Shape              Param #   \n",
      "=================================================================\n",
      "conv2d_3 (Conv2D)            (None, 238, 318, 32)      896       \n",
      "_________________________________________________________________\n",
      "activation_5 (Activation)    (None, 238, 318, 32)      0         \n",
      "_________________________________________________________________\n",
      "max_pooling2d_3 (MaxPooling2 (None, 119, 159, 32)      0         \n",
      "_________________________________________________________________\n",
      "conv2d_4 (Conv2D)            (None, 117, 157, 32)      9248      \n",
      "_________________________________________________________________\n",
      "activation_6 (Activation)    (None, 117, 157, 32)      0         \n",
      "_________________________________________________________________\n",
      "max_pooling2d_4 (MaxPooling2 (None, 58, 78, 32)        0         \n",
      "_________________________________________________________________\n",
      "conv2d_5 (Conv2D)            (None, 56, 76, 64)        18496     \n",
      "_________________________________________________________________\n",
      "activation_7 (Activation)    (None, 56, 76, 64)        0         \n",
      "_________________________________________________________________\n",
      "max_pooling2d_5 (MaxPooling2 (None, 28, 38, 64)        0         \n",
      "_________________________________________________________________\n",
      "flatten_1 (Flatten)          (None, 68096)             0         \n",
      "_________________________________________________________________\n",
      "dense_2 (Dense)              (None, 64)                4358208   \n",
      "_________________________________________________________________\n",
      "activation_8 (Activation)    (None, 64)                0         \n",
      "_________________________________________________________________\n",
      "dropout_1 (Dropout)          (None, 64)                0         \n",
      "_________________________________________________________________\n",
      "dense_3 (Dense)              (None, 4)                 260       \n",
      "_________________________________________________________________\n",
      "activation_9 (Activation)    (None, 4)                 0         \n",
      "=================================================================\n",
      "Total params: 4,387,108\n",
      "Trainable params: 4,387,108\n",
      "Non-trainable params: 0\n",
      "_________________________________________________________________\n"
     ]
    }
   ],
   "source": [
    "model.summary()"
   ]
  },
  {
   "cell_type": "code",
   "execution_count": 8,
   "id": "e5acfee8",
   "metadata": {},
   "outputs": [
    {
     "name": "stdout",
     "output_type": "stream",
     "text": [
      "WARNING:tensorflow:From C:\\Users\\Anne\\anaconda3\\envs\\Cozmo\\lib\\site-packages\\tensorflow\\python\\training\\tracking\\tracking.py:111: Model.state_updates (from tensorflow.python.keras.engine.training) is deprecated and will be removed in a future version.\n",
      "Instructions for updating:\n",
      "This property should not be used in TensorFlow 2.0, as updates are applied automatically.\n"
     ]
    },
    {
     "name": "stderr",
     "output_type": "stream",
     "text": [
      "WARNING:tensorflow:From C:\\Users\\Anne\\anaconda3\\envs\\Cozmo\\lib\\site-packages\\tensorflow\\python\\training\\tracking\\tracking.py:111: Model.state_updates (from tensorflow.python.keras.engine.training) is deprecated and will be removed in a future version.\n",
      "Instructions for updating:\n",
      "This property should not be used in TensorFlow 2.0, as updates are applied automatically.\n"
     ]
    },
    {
     "name": "stdout",
     "output_type": "stream",
     "text": [
      "WARNING:tensorflow:From C:\\Users\\Anne\\anaconda3\\envs\\Cozmo\\lib\\site-packages\\tensorflow\\python\\training\\tracking\\tracking.py:111: Layer.updates (from tensorflow.python.keras.engine.base_layer) is deprecated and will be removed in a future version.\n",
      "Instructions for updating:\n",
      "This property should not be used in TensorFlow 2.0, as updates are applied automatically.\n"
     ]
    },
    {
     "name": "stderr",
     "output_type": "stream",
     "text": [
      "WARNING:tensorflow:From C:\\Users\\Anne\\anaconda3\\envs\\Cozmo\\lib\\site-packages\\tensorflow\\python\\training\\tracking\\tracking.py:111: Layer.updates (from tensorflow.python.keras.engine.base_layer) is deprecated and will be removed in a future version.\n",
      "Instructions for updating:\n",
      "This property should not be used in TensorFlow 2.0, as updates are applied automatically.\n"
     ]
    },
    {
     "name": "stdout",
     "output_type": "stream",
     "text": [
      "INFO:tensorflow:Assets written to: C:\\Users\\Anne\\Documents\\GIT\\Cozmo\\02_Model\\MyModelhebehshuffled\\assets\n"
     ]
    },
    {
     "name": "stderr",
     "output_type": "stream",
     "text": [
      "INFO:tensorflow:Assets written to: C:\\Users\\Anne\\Documents\\GIT\\Cozmo\\02_Model\\MyModelhebehshuffled\\assets\n"
     ]
    }
   ],
   "source": [
    "model.save('C:\\\\Users\\\\Anne\\\\Documents\\\\GIT\\\\Cozmo\\\\02_Model\\\\MyModelhebehshuffled')\n",
    "model.save_weights('model_weights_shuffle.h5')\n",
    "model.save('model_keras_shuffle.h5')"
   ]
  },
  {
   "cell_type": "code",
   "execution_count": 9,
   "id": "7050361b",
   "metadata": {},
   "outputs": [
    {
     "name": "stdout",
     "output_type": "stream",
     "text": [
      "Accuracy: 100.00%\n"
     ]
    }
   ],
   "source": [
    "# Final evaluation of the model\n",
    "scores = model.evaluate(validation_generator, verbose=0)\n",
    "print(\"Accuracy: %.2f%%\" % (scores[1]*100))"
   ]
  },
  {
   "cell_type": "code",
   "execution_count": 10,
   "id": "41326da9",
   "metadata": {},
   "outputs": [
    {
     "data": {
      "image/png": "[encoded data removed]",
      "text/plain": [
       "<Figure size 576x576 with 2 Axes>"
      ]
     },
     "metadata": {
      "needs_background": "light"
     },
     "output_type": "display_data"
    }
   ],
   "source": [
    "import seaborn as sns\n",
    "import matplotlib.pyplot as plt\n",
    "%matplotlib inline\n",
    "# from IPython.display import Inline\n",
    "\n",
    "\n",
    "fig, (ax1,ax2) = plt.subplots(2,1,figsize=[8,8], sharex=True)\n",
    "\n",
    "ax1.plot(history.history['accuracy'], color='green')\n",
    "ax1.plot(history.history['val_accuracy'], color='cornflowerblue')\n",
    "ax1.set_ylabel('Accuracy', fontsize=17)\n",
    "#ax1.set_xlabel('Epoch', fontsize=17)\n",
    "ax2.plot(history.history['loss'], color='green')\n",
    "ax2.plot(history.history['val_loss'], color='cornflowerblue')\n",
    "ax2.set_ylabel('Loss', fontsize=17)\n",
    "ax2.set_xlabel('Epoch', fontsize=17)\n",
    "#ax1.legend(['train', 'test'], loc='upper left')\n",
    "#ax2.legend(['train', 'test'], loc='upper left')\n",
    "sns.despine(top=True,bottom=True,right=True,left=True)\n",
    "sns.set(style='white',rc={\"lines.linewidth\": 3})\n",
    "ax1.tick_params(axis='y', labelsize=15, color='dimgrey')\n",
    "ax1.tick_params(axis='x', labelsize=15, color='lightgrey')\n",
    "ax2.tick_params(axis='x', labelsize=15, color='dimgrey')\n",
    "ax2.tick_params(axis='y', labelsize=15, color='lightgrey')\n",
    "\n",
    "\n",
    "fig.savefig('Model_Metrics_NoCallbacks_Aftershuffle.jpeg', bbox_inches='tight')\n",
    "\n",
    "plt.show()"
   ]
  },
  {
   "cell_type": "code",
   "execution_count": 26,
   "id": "c8141f42",
   "metadata": {},
   "outputs": [
    {
     "name": "stdout",
     "output_type": "stream",
     "text": [
      "WARNING:tensorflow:Your input ran out of data; interrupting training. Make sure that your dataset or generator can generate at least `steps_per_epoch * epochs` batches (in this case, 266 batches). You may need to use the repeat() function when building your dataset.\n"
     ]
    },
    {
     "name": "stderr",
     "output_type": "stream",
     "text": [
      "WARNING:tensorflow:Your input ran out of data; interrupting training. Make sure that your dataset or generator can generate at least `steps_per_epoch * epochs` batches (in this case, 266 batches). You may need to use the repeat() function when building your dataset.\n"
     ]
    },
    {
     "name": "stdout",
     "output_type": "stream",
     "text": [
      "Confusion Matrix\n",
      "[[106  99  94 101]\n",
      " [ 93  92 114 101]\n",
      " [108 105 101  86]\n",
      " [ 93 104  91 112]]\n",
      "Classification Report\n",
      "              precision    recall  f1-score   support\n",
      "\n",
      "           C       0.27      0.27      0.27       400\n",
      "           M       0.23      0.23      0.23       400\n",
      "           O       0.25      0.25      0.25       400\n",
      "           Z       0.28      0.28      0.28       400\n",
      "\n",
      "    accuracy                           0.26      1600\n",
      "   macro avg       0.26      0.26      0.26      1600\n",
      "weighted avg       0.26      0.26      0.26      1600\n",
      "\n"
     ]
    }
   ],
   "source": [
    "from sklearn.metrics import classification_report, confusion_matrix\n",
    "Y_pred = model.predict_generator(validation_generator, 7952 // 30+1)\n",
    "y_pred = np.argmax(Y_pred, axis=1)\n",
    "print('Confusion Matrix')\n",
    "print(confusion_matrix(validation_generator.classes, y_pred))\n",
    "print('Classification Report')\n",
    "target_names = ['C','M','O','Z']\n",
    "print(classification_report(validation_generator.classes, y_pred, target_names=target_names))"
   ]
  },
  {
   "cell_type": "code",
   "execution_count": 27,
   "id": "0406be35",
   "metadata": {},
   "outputs": [
    {
     "data": {
      "text/plain": [
       "<AxesSubplot:>"
      ]
     },
     "execution_count": 27,
     "metadata": {},
     "output_type": "execute_result"
    },
    {
     "data": {
      "image/png": "[encoded data removed]",
      "text/plain": [
       "<Figure size 432x288 with 2 Axes>"
      ]
     },
     "metadata": {},
     "output_type": "display_data"
    }
   ],
   "source": [
    "cf_matrix = confusion_matrix(validation_generator.classes, y_pred)\n",
    "import seaborn as sns\n",
    "x_axis_labels = ['C','O','Z','M']\n",
    "y_axis_labels = ['C','O','Z','M']\n",
    "sns.heatmap(cf_matrix, annot=True, fmt=\"0\", xticklabels=x_axis_labels, yticklabels=y_axis_labels,  vmin=80, vmax=100)"
   ]
  },
  {
   "cell_type": "code",
   "execution_count": null,
   "id": "1bf95adf",
   "metadata": {},
   "outputs": [],
   "source": []
  }
 ],
 "metadata": {
  "kernelspec": {
   "display_name": "Python 3",
   "language": "python",
   "name": "python3"
  },
  "language_info": {
   "codemirror_mode": {
    "name": "ipython",
    "version": 3
   },
   "file_extension": ".py",
   "mimetype": "text/x-python",
   "name": "python",
   "nbconvert_exporter": "python",
   "pygments_lexer": "ipython3",
   "version": "3.7.10"
  }
 },
 "nbformat": 4,
 "nbformat_minor": 5
}
