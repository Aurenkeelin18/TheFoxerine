{
 "cells": [
  {
   "cell_type": "markdown",
   "metadata": {},
   "source": [
    "This exercise will require you to pull some data from the Qunadl API. Qaundl is currently the most widely used aggregator of financial market data."
   ]
  },
  {
   "cell_type": "markdown",
   "metadata": {},
   "source": [
    "As a first step, you will need to register a free account on the http://www.quandl.com website."
   ]
  },
  {
   "cell_type": "markdown",
   "metadata": {},
   "source": [
    "After you register, you will be provided with a unique API key, that you should store:"
   ]
  },
  {
   "cell_type": "code",
   "execution_count": 1,
   "metadata": {},
   "outputs": [],
   "source": [
    "# Store the API key as a string - according to PEP8, constants are always named in all upper case\n",
    "API_KEY = 'THRn3DvwaQvDQ8TbXtby'"
   ]
  },
  {
   "cell_type": "markdown",
   "metadata": {},
   "source": [
    "Qaundl has a large number of data sources, but, unfortunately, most of them require a Premium subscription. Still, there are also a good number of free datasets."
   ]
  },
  {
   "cell_type": "markdown",
   "metadata": {},
   "source": [
    "For this mini project, we will focus on equities data from the Frankfurt Stock Exhange (FSE), which is available for free. We'll try and analyze the stock prices of a company called Carl Zeiss Meditec, which manufactures tools for eye examinations, as well as medical lasers for laser eye surgery: https://www.zeiss.com/meditec/int/home.html. The company is listed under the stock ticker AFX_X."
   ]
  },
  {
   "cell_type": "markdown",
   "metadata": {},
   "source": [
    "You can find the detailed Quandl API instructions here: https://docs.quandl.com/docs/time-series"
   ]
  },
  {
   "cell_type": "markdown",
   "metadata": {},
   "source": [
    "While there is a dedicated Python package for connecting to the Quandl API, we would prefer that you use the *requests* package, which can be easily downloaded using *pip* or *conda*. You can find the documentation for the package here: http://docs.python-requests.org/en/master/ "
   ]
  },
  {
   "cell_type": "markdown",
   "metadata": {},
   "source": [
    "Finally, apart from the *requests* package, you are encouraged to not use any third party Python packages, such as *pandas*, and instead focus on what's available in the Python Standard Library (the *collections* module might come in handy: https://pymotw.com/3/collections/ ).\n",
    "Also, since you won't have access to DataFrames, you are encouraged to us Python's native data structures - preferably dictionaries, though some questions can also be answered using lists.\n",
    "You can read more on these data structures here: https://docs.python.org/3/tutorial/datastructures.html"
   ]
  },
  {
   "cell_type": "markdown",
   "metadata": {},
   "source": [
    "Keep in mind that the JSON responses you will be getting from the API map almost one-to-one to Python's dictionaries. Unfortunately, they can be very nested, so make sure you read up on indexing dictionaries in the documentation provided above."
   ]
  },
  {
   "cell_type": "code",
   "execution_count": 2,
   "metadata": {},
   "outputs": [],
   "source": [
    "# First, import the relevant modules\n",
    "import requests\n",
    "from collections import defaultdict,OrderedDict, namedtuple\n",
    "import json\n"
   ]
  },
  {
   "cell_type": "code",
   "execution_count": 3,
   "metadata": {},
   "outputs": [],
   "source": [
    "# Now, call the Quandl API and pull out a small sample of the data (only one day) to get a glimpse\n",
    "# into the JSON structure that will be returned\n",
    "\n",
    "# I am collecting data from the FSE database (FSE stands for Frankfurt Stock Exchange),\n",
    "# of the stock AFX_X, from 08-01-2017 to 08-02-2017.\n",
    "url='https://www.quandl.com/api/v3/datasets/FSE/AFX_X/data.json'\n",
    "params=dict(key=API_KEY,database_code='FSE',dataset_code='AFX_X',start_date='2017-08-01',end_date='2017-08-02')\n",
    "r=requests.get(url,params)"
   ]
  },
  {
   "cell_type": "code",
   "execution_count": 4,
   "metadata": {},
   "outputs": [
    {
     "name": "stdout",
     "output_type": "stream",
     "text": [
      "{'dataset_data': {'limit': None, 'transform': None, 'column_index': None, 'column_names': ['Date', 'Open', 'High', 'Low', 'Close', 'Change', 'Traded Volume', 'Turnover', 'Last Price of the Day', 'Daily Traded Units', 'Daily Turnover'], 'start_date': '2017-08-01', 'end_date': '2017-08-02', 'frequency': 'daily', 'data': [['2017-08-02', 45.25, 45.77, 44.9, 45.56, None, 187468.0, 8528548.0, None, None, None], ['2017-08-01', 45.24, 45.54, 45.1, 45.45, None, 74975.0, 3399891.0, None, None, None]], 'collapse': None, 'order': None}}\n"
     ]
    }
   ],
   "source": [
    "# Inspect the JSON structure of the object you created, and take note of how nested it is,\n",
    "# as well as the overall structure\n",
    "\n",
    "json_data=r.json()\n",
    "print(json_data)\n",
    "\n",
    "# The JSON structure is indeed very  nested thoug hthe main dictionary has only\n",
    "# one key which is the nested dictionary. I will keep the structure as is\n",
    "# because there is no instructions about \"beheading the first key\". \n",
    "#{'dataset_data': \n",
    "#          {'limit': None, \n",
    "#           'transform': None,\n",
    "#           'column_index': None, \n",
    "#           'column_names': ['Date', 'Open', 'High', 'Low', 'Close', 'Change', 'Traded Volume', 'Turnover', 'Last Price of the Day', 'Daily Traded Units', 'Daily Turnover'], \n",
    "#           'start_date': '2017-08-01', \n",
    "#           'end_date': '2017-08-02', \n",
    "#           'frequency': 'daily', \n",
    "#           'data': [\n",
    "#                   ['2017-08-02', 45.25, 45.77, 44.9, 45.56, None, 187468.0, 8528548.0, None, None, None],\n",
    "#                   ['2017-08-01', 45.24, 45.54, 45.1, 45.45, None, 74975.0, 3399891.0, None, None, None]], \n",
    "#           'collapse': None, \n",
    "#           'order': None}}\n"
   ]
  },
  {
   "cell_type": "markdown",
   "metadata": {},
   "source": [
    "These are your tasks for this mini project:\n",
    "\n",
    "1. Collect data from the Franfurt Stock Exchange, for the ticker AFX_X, for the whole year 2017 (keep in mind that the date format is YYYY-MM-DD).\n",
    "2. Convert the returned JSON object into a Python dictionary.\n",
    "3. Calculate what the highest and lowest opening prices were for the stock in this period.\n",
    "4. What was the largest change in any one day (based on High and Low price)?\n",
    "5. What was the largest change between any two days (based on Closing Price)?\n",
    "6. What was the average daily trading volume during this year?\n",
    "7. (Optional) What was the median trading volume during this year. (Note: you may need to implement your own function for calculating the median.)"
   ]
  },
  {
   "cell_type": "code",
   "execution_count": 5,
   "metadata": {},
   "outputs": [],
   "source": [
    "# (Q1) Collecting the data for the whole year 2017\n",
    "\n",
    "url='https://www.quandl.com/api/v3/datasets/FSE/AFX_X/data.json'\n",
    "params=dict(key=API_KEY,database_code='FSE',dataset_code='AFX_X',start_date='2017-01-01',end_date='2017-12-31')\n",
    "r=requests.get(url,params)"
   ]
  },
  {
   "cell_type": "code",
   "execution_count": 6,
   "metadata": {},
   "outputs": [
    {
     "name": "stdout",
     "output_type": "stream",
     "text": [
      "dict_keys(['dataset_data'])\n",
      "dict_keys(['limit', 'transform', 'column_index', 'column_names', 'start_date', 'end_date', 'frequency', 'data', 'collapse', 'order'])\n"
     ]
    }
   ],
   "source": [
    "# (Q2) Convert the return JSON object into a Python dictionary\n",
    "\n",
    "# getting my response in json_data\n",
    "json_data=r.json()\n",
    "\n",
    "# initiating an empty python dictionary\n",
    "afx_dict={}\n",
    "\n",
    "# filling the dictionary afx_dict with the content of json_data\n",
    "\n",
    "for key,value in json_data.items():\n",
    "    afx_dict.update({key:value})\n",
    "print(afx_dict.keys())\n",
    "print(afx_dict['dataset_data'].keys())\n"
   ]
  },
  {
   "cell_type": "code",
   "execution_count": 7,
   "metadata": {},
   "outputs": [
    {
     "name": "stdout",
     "output_type": "stream",
     "text": [
      "The highest opening price was 53.11 and the lowest opening price was 34.0 for the AFX_X stock in 2017.\n"
     ]
    }
   ],
   "source": [
    "# (Q3) Calculate what the highest and lowest opening prices were for the stock in this period.\n",
    "\n",
    "# I extract the list called 'data' which is nested in 'dataset_data' \n",
    "# I store this sublist in the list afx_data.\n",
    "afx_data=afx_dict['dataset_data']['data']\n",
    "\n",
    "# I create an empty list 'open_prices' which I will use in the loop that follows\n",
    "open_prices=[]\n",
    "\n",
    "# The loop iterates through the lists (sublists) of list(afx_data)\n",
    "# The loop skips \"None\" values\n",
    "# The loop appends float values to the list open_prices\n",
    "# I could have used a list comprehension, however, I won't because I have to in Q7\n",
    "for sublist in afx_data:\n",
    "        for i in sublist:\n",
    "            if sublist[1]!=None:\n",
    "                open_prices.append(sublist[1])\n",
    "            else:\n",
    "                pass\n",
    "\n",
    "# I am printing out the minimum and maximum opening prices            \n",
    "print('The highest opening price was {} and the lowest opening price was {} for the AFX_X stock in 2017.'.format(max(open_prices),min(open_prices)))\n",
    "\n",
    "# The highest opening price was 53.11 and the lowest opening price was 34.0 for the AFX_X stock in 2017"
   ]
  },
  {
   "cell_type": "code",
   "execution_count": 8,
   "metadata": {},
   "outputs": [
    {
     "name": "stdout",
     "output_type": "stream",
     "text": [
      "The largest change in any one day was 2.81 for the AFX_X stock in 2017.\n"
     ]
    }
   ],
   "source": [
    "# (Q4) What was the largest change in any one day (based on High and Low price)?\n",
    "\n",
    "# I am recycling afx_data from Q3 I am going to calculate 'High'-'low', \n",
    "# store it in the list 'change_list' and find the max\n",
    "\n",
    "# Initiating the list 'change_list'\n",
    "change_list=[]\n",
    "\n",
    "# The loop iterates through the lists (sublists) of list(afx_data)\n",
    "# The loop skips \"None\" values under both 'High' and 'Low'\n",
    "# The loop appends the difference between 'High' and 'Low' to the list 'change_list'\n",
    "# I could have used a list comprehension, however, I won't because I have to in Q7\n",
    "\n",
    "for sublist in afx_data:\n",
    "        for i in sublist:\n",
    "            if (sublist[2]!=None) | (sublist[3]!=None):\n",
    "                change=sublist[2]-sublist[3]\n",
    "                change_list.append(change)\n",
    "            else:\n",
    "                pass\n",
    "\n",
    "# I am printing out the largest change in any one day\n",
    "print('The largest change in any one day was {} for the AFX_X stock in 2017.'.format(round(max(change_list),2)))\n",
    "\n",
    "# The largest change in any one day was 2.81 for the AFX_X stock in 2017."
   ]
  },
  {
   "cell_type": "code",
   "execution_count": 9,
   "metadata": {},
   "outputs": [
    {
     "name": "stdout",
     "output_type": "stream",
     "text": [
      "The largest change in any two days was 2.56 for the AFX_X stock in 2017.\n"
     ]
    }
   ],
   "source": [
    "# (Q5) What was the largest change between any two days (based on Closing Price)?\n",
    "\n",
    "# I am recycling afx_data from Q3/4 I am going to subset the 'Close' data in the list 'close_list'\n",
    "# Then I will calculate 'Close(today)- CLose(yesterday)' from close_list',\n",
    "# store it in the list 'any_two' and find the max\n",
    "\n",
    "# Initiating the list 'any_two' and 'close_list'\n",
    "any_two=[]\n",
    "close_list=[]\n",
    "\n",
    "# The loop iterates through the lists (sublists) of list(afx_data)\n",
    "# The loop skips \"None\" values under 'Close'\n",
    "# The loop appends the 'data from 'Close' into the list 'close_list'\n",
    "\n",
    "for sublist in afx_data:\n",
    "        for i in sublist:\n",
    "            if (sublist[4]!=None):\n",
    "                close_list.append(sublist[4])\n",
    "            else:\n",
    "                pass\n",
    "            \n",
    "# The second loop goes through the list 'close_list', \n",
    "# starting on day 2 (index=1) and it appends the difference between\n",
    "# the next value (i) and the precedent value(i-1) to the list \"any_two\"            \n",
    "for i in range(1,len(close_list)):\n",
    "        any_two.append(close_list[i]-close_list[i-1])\n",
    "        \n",
    "# I am printing out the largest change in any two days\n",
    "print('The largest change in any two days was {} for the AFX_X stock in 2017.'.format(round(max(any_two),2)))\n",
    "\n",
    "# The largest change in any two days was 2.56 for the AFX_X stock in 2017."
   ]
  },
  {
   "cell_type": "code",
   "execution_count": 16,
   "metadata": {},
   "outputs": [
    {
     "name": "stdout",
     "output_type": "stream",
     "text": [
      "The average daily trading volume was 89124.34 for the AFX_X stock in 2017.\n",
      "2805\n"
     ]
    }
   ],
   "source": [
    "# (Q6) What was the average daily trading volume during this year?\n",
    "\n",
    "# Initiating the list 'trading_vol'\n",
    "trading_vol=[]\n",
    "\n",
    "# The loop iterates through the lists (sublists) of list(afx_data)\n",
    "# The loop skips \"None\" values under 'trading_value'\n",
    "# The loop appends the 'data from 'trading value' into the list 'trading_vol'\n",
    "\n",
    "for sublist in afx_data:\n",
    "        for i in sublist:\n",
    "            if (sublist[6]!=None):\n",
    "                trading_vol.append(sublist[6])\n",
    "            else:\n",
    "                pass\n",
    "\n",
    "# I am printing out the mean trading volume\n",
    "# I would have used the statistics.mean() but it seems we need to avoid using packages\n",
    "# so I make a basic mean calculation sum/length\n",
    "print('The average daily trading volume was {} for the AFX_X stock in 2017.'.format(round((sum(trading_vol)/len(trading_vol)),2)))\n",
    "\n",
    "# The average daily trading volume was 89124.34 for the AFX_X stock in 2017.\n"
   ]
  },
  {
   "cell_type": "code",
   "execution_count": 56,
   "metadata": {},
   "outputs": [
    {
     "name": "stdout",
     "output_type": "stream",
     "text": [
      "The median trading volume for AFX_X in 2017 is 74723.5 .\n"
     ]
    }
   ],
   "source": [
    "# (Q7) (Optional) What was the median trading volume during this year.\n",
    "# (Note: you may need to implement your own function for calculating the median.)\n",
    "\n",
    "\n",
    "\n",
    "# median_fn is my function to find the median using a comprehension list\n",
    "# the function expects a 'dico' parameter which is here the python dictionary \n",
    "# with the only key a.k.a afx_dict['dataset_data']\n",
    "# the function also expects a parameter col_name which is the name of the data \n",
    "# we want to utilize to calculate the median. The col_name is found under 'column_names'.\n",
    "# for this exercise col_name is 'Traded Volume'.\n",
    "\n",
    "def median_fn(dico,col_name):\n",
    "    # The first subfunction \"which data\" looks for the position of the data in the list\n",
    "    # by using its header name. Headers are stored in the list 'column_names'. \n",
    "    # In this exercise, the header is \"Traded Volume' and can be found\n",
    "    # in the list 'column_names' at position 6. The index of col_name\n",
    "    # in 'column_names' is returned (would be 6 for 'Traded Volume')\n",
    "    def whichdata(dic,col):\n",
    "        return dic['column_names'].index(col)\n",
    "     \n",
    "    # The second subfunction uses a comprehension list to build a list with \n",
    "    # the data we have chosen to look at. I chose to filter out 'None' in case\n",
    "    # I would like to use the function on other data list which contained 'None' instead of a value\n",
    "    # The list is then sorted and finally is returned.\n",
    "    def list_data(subindex):\n",
    "        zelist=[sublist[subindex] for sublist in dico['data'] if sublist[subindex]!='None']\n",
    "        zelist.sort()\n",
    "        return zelist\n",
    "    \n",
    "    # The third subfunction uses if/else statement to discriminate\n",
    "    # odd vs. even length of list in order to use the proper calculation\n",
    "    # for the median. The function returns the median.\n",
    "    def findmedian(alist):\n",
    "         if not len(alist)%2:\n",
    "            return alist[len(alist)//2-1]\n",
    "         else:\n",
    "            return ((alist[len(alist)//2 - 2] + alist[len(alist)//2 -1]) / 2)\n",
    "        \n",
    "    # The main function median_fn returns the median using its three nested functions\n",
    "    return findmedian(list_data(whichdata(dico,col_name)))\n",
    "\n",
    "# I am printing out the result\n",
    "print('The median trading volume for AFX_X in 2017 is {} .'.format(median_fn(afx_dict['dataset_data'],'Traded Volume')))\n",
    "\n",
    "\n",
    "# The median trading volume for AFX_X in 2017 is 74723.5 .\n",
    "\n",
    "\n"
   ]
  },
  {
   "cell_type": "code",
   "execution_count": null,
   "metadata": {},
   "outputs": [],
   "source": []
  }
 ],
 "metadata": {
  "kernelspec": {
   "display_name": "Python 3",
   "language": "python",
   "name": "python3"
  },
  "language_info": {
   "codemirror_mode": {
    "name": "ipython",
    "version": 3
   },
   "file_extension": ".py",
   "mimetype": "text/x-python",
   "name": "python",
   "nbconvert_exporter": "python",
   "pygments_lexer": "ipython3",
   "version": "3.7.6"
  }
 },
 "nbformat": 4,
 "nbformat_minor": 4
}
