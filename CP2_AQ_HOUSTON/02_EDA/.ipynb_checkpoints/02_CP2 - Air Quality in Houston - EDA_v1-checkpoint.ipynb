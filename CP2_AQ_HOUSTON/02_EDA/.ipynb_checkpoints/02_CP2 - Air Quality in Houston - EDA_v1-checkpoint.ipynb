{
 "cells": [
  {
   "cell_type": "markdown",
   "metadata": {},
   "source": [
    "# Air Quality in Houston - Step 2: Exploratory Data Analysis#\n",
    "\n",
    "\n",
    " The datasets have been cleaned up as much as possible in the Data Wrangling notebook. Now is time to get into the core characteristics of these datasets, explore relationships between data and define reliable features for subsequent modelling.\n",
    " First, let's import modules and saved dataframes (which can be found under '00_SavedDataframes')."
   ]
  },
  {
   "cell_type": "code",
   "execution_count": 1,
   "metadata": {},
   "outputs": [],
   "source": [
    "### Import libraries\n",
    "import numpy as np\n",
    "import pandas as pd\n",
    "import glob\n",
    "import datetime\n",
    "import matplotlib.pyplot as plt\n",
    "import seaborn as sns\n",
    "import scipy.stats as sst\n",
    "import geopandas as gpd\n",
    "import json\n",
    "import copy\n",
    "from collections import defaultdict,OrderedDict, namedtuple\n",
    "from sklearn.preprocessing import PowerTransformer\n",
    "\n",
    "### Location of dataframes and mapping files\n",
    "path_header='C:\\\\Users\\\\Anne\\\\Documents\\\\GIT\\\\TheFoxerine\\\\'\n",
    "path_df='CP2_AQ_HOUSTON\\\\00_SavedDataframes\\\\'\n",
    "path_saf='CP2_AQ_HOUSTON\\\\00_OriginalData\\\\00_StuffAndThings\\\\'"
   ]
  },
  {
   "cell_type": "markdown",
   "metadata": {},
   "source": [
    "There are 15 excel files to load and of course as many dataframes to name. To facilitate the loading, naming and easy utilisation of the dataframes, a dictionary of dataframes 'dico_df'  is created using the module glob and the module copy. dico_df stores the name of the dataframe as key and the dataframe as value (dico_df {dataframe_name: dataframe}) and locally defines and assigns the correct name to the dataframe using the method globals(). "
   ]
  },
  {
   "cell_type": "code",
   "execution_count": null,
   "metadata": {},
   "outputs": [],
   "source": [
    "### Create a dictionary of dataframe so that I know where to find\n",
    "### the material I need without having to endlessly scroll up and down.\n",
    "\n",
    "### empty dictionary that will contain filenames and dataframes ###\n",
    "dico_df = {}\n",
    "\n",
    "### glob fetches all xls files in the folder ###\n",
    "allfiles = glob.glob(path_header+path_df + '*.xlsx')\n",
    "\n",
    "### Because Python is all about dictionaries ;) ###\n",
    "for filename in allfiles:\n",
    "    df = pd.read_excel(filename,index_col=0)\n",
    "    filename=filename[74::]\n",
    "    filename_len=len(filename)\n",
    "    filename=filename[0:(filename_len-5)]\n",
    "    key_name = str(filename)    \n",
    "    dico_df[key_name] = copy.deepcopy(df)\n",
    "\n",
    "### dico_df is ready\n",
    "### the key is the name of the df\n",
    "### the value is the df itself\n",
    "print(dico_df.keys())\n"
   ]
  },
  {
   "cell_type": "code",
   "execution_count": null,
   "metadata": {},
   "outputs": [],
   "source": [
    "### Let's unwrap all df with the correct name\n",
    "for k,v in dico_df.items():\n",
    "    globals()[f'{k}'] =v\n",
    "    \n",
    "### Let's look at one df, epa_co\n",
    "epa_co.head()"
   ]
  },
  {
   "cell_type": "markdown",
   "metadata": {},
   "source": [
    "## 1. Indoor vs. Outdoor (RIOPA) ##\n",
    "The RIOPA data is being used in this project to attempt to model indoor air from outdoor air data and additional category such as landuse, temperature...etc..\n",
    "\n",
    "### 1.1. The Data: ###\n",
    "The indoor and outdoor data are saved in the dataframes 'riopa_indoor' and riopa_outdoor', respectively. The outdoor data lacks 'land use' and 'location' information because it was not provided with the original report for outdoor data and the linkid of outdoor data is different from the one for indoor data. I need this information to plot the outdoor data and later to be able to connect this outdoor data to the EPA and TECQ/Tamis data.\n",
    "As the outdoor sampling was done close to the home where the indoor sampling was performed, I will just add the land use, location longitude, location latitude, census block code and geoid number from the indoor data to the outdoor data.\n",
    "There is a little trick in the linkid: the linkid of indoor data ends by '10' whereas the linkid of the outdoor data ends by '20'. The 6 first digits of the linkid is the link between outdoor and indoor entries. Consequently, I will merge land use and location information from the riopa_indoor dataset to the riopa_outdoor dataset on a 6 digit linkid."
   ]
  },
  {
   "cell_type": "code",
   "execution_count": null,
   "metadata": {},
   "outputs": [],
   "source": [
    "riopa_indoor.head()"
   ]
  },
  {
   "cell_type": "code",
   "execution_count": null,
   "metadata": {},
   "outputs": [],
   "source": [
    "riopa_indoor.shape"
   ]
  },
  {
   "cell_type": "code",
   "execution_count": null,
   "metadata": {},
   "outputs": [],
   "source": [
    "riopa_outdoor.shape"
   ]
  },
  {
   "cell_type": "code",
   "execution_count": null,
   "metadata": {},
   "outputs": [],
   "source": [
    "riopa_indoor.linkid.unique()"
   ]
  },
  {
   "cell_type": "code",
   "execution_count": null,
   "metadata": {},
   "outputs": [],
   "source": [
    "riopa_outdoor.linkid.unique()"
   ]
  },
  {
   "cell_type": "code",
   "execution_count": null,
   "metadata": {},
   "outputs": [],
   "source": [
    "### Drop excess information (additional date columns)\n",
    "### Select the essential. I chose to subset instead of \n",
    "### dropping the columns so that I can quickly copy paste\n",
    "### column names I would need later\n",
    "riopa_interest=['date','linkid','sampleid','homeid','airtype',\n",
    "                'pm25',\n",
    "                'landuse_class','ambient_temp_c','ambient_rh','airexrate',\n",
    "                'temp_dry','dew_point','temp_wet','rh',\n",
    "                'census_group_block_code','home_lat','home_long']\n",
    "indoor=riopa_indoor[riopa_interest]\n",
    "outdoor=riopa_outdoor[riopa_interest]\n",
    "\n",
    "### Drop landuse_class and location information\n",
    "### in outdoor that contains only 'tbd' or 'nan'\n",
    "outdoor.drop(['landuse_class','census_group_block_code','home_lat','home_long'],axis=1,inplace=True)\n",
    "\n",
    "### Create the column common_id which is the first digit of linkid\n",
    "indoor['common_id']=indoor['linkid'].str[:6]\n",
    "outdoor['common_id']=outdoor['linkid'].str[:6]\n",
    "\n",
    "### Get a subset of indoor containing the common_id, landuse and location information\n",
    "foroutdoor=indoor[['common_id','landuse_class','census_group_block_code','home_lat','home_long']]\n",
    "\n",
    "### Merge the subset to outdoor on common_id\n",
    "outdoor2=pd.merge(outdoor, foroutdoor, on=['common_id'], how='left')\n",
    "\n",
    "outdoor2.isnull().sum()"
   ]
  },
  {
   "cell_type": "markdown",
   "metadata": {},
   "source": [
    "We knew from data wrangling that the blockgroup numbers provided by the RIOPA team were mostly wrong, which explains the high nuber of null value for home_lat and home_lon. Missing land use class can be replaced by 'unknown'. For the indoor dataframe, there are 4 missing values related to outdoor temperature and rh and two missing blockgroup code. These are not important because they are not part of what the indoor data is defined by."
   ]
  },
  {
   "cell_type": "code",
   "execution_count": null,
   "metadata": {},
   "outputs": [],
   "source": [
    "indoor.isnull().sum()"
   ]
  },
  {
   "cell_type": "code",
   "execution_count": null,
   "metadata": {},
   "outputs": [],
   "source": [
    "outdoor2.head()"
   ]
  },
  {
   "cell_type": "markdown",
   "metadata": {},
   "source": [
    "As shown below, the datasets are small: indoor contains 120 PM 2.5 measurements, which should be the target value; and outdoor2 contains 130 PM 2.5 measurements, which should be one of the predictor value. \n",
    "A quick note on terms, PM25 is a common pollutant. PM stands for \"Particulate Matter\". \"2.5\" is the size of the PM."
   ]
  },
  {
   "cell_type": "code",
   "execution_count": null,
   "metadata": {},
   "outputs": [],
   "source": [
    "indoor.describe().T"
   ]
  },
  {
   "cell_type": "code",
   "execution_count": null,
   "metadata": {},
   "outputs": [],
   "source": [
    "outdoor2.describe().T"
   ]
  },
  {
   "cell_type": "code",
   "execution_count": null,
   "metadata": {},
   "outputs": [],
   "source": [
    "### Plot pm25 distribution indoor and outdoor\n",
    "fig, (ind, out) = plt.subplots(1, 2, sharey=True, figsize=(12, 5), frameon=True)\n",
    "fig.suptitle('Distribution of PM 2.5 (ug/m3)', fontsize=21, color='firebrick')\n",
    "fig.subplots_adjust(top=0.8)\n",
    "\n",
    "ind.hist(data=indoor, x='pm25', bins=10, alpha=0.5, facecolor='crimson', \n",
    "         linewidth=1, histtype='bar', ec='crimson')\n",
    "ind.set_title('Indoor Data', fontsize=16)\n",
    "ind.set(xlabel='PM 2.5 (ug/m3)', ylabel='Frequency')\n",
    "ind.xaxis.get_label().set_fontsize(15)\n",
    "ind.yaxis.get_label().set_fontsize(15)\n",
    "ind.set_facecolor('mistyrose')\n",
    "ind.grid(True)\n",
    "\n",
    "out.hist(data=outdoor2, x='pm25', bins=10, alpha=0.5, facecolor='green', \n",
    "         linewidth=1, histtype='bar', ec='green')\n",
    "out.set_title('Outdoor Data', fontsize=16)\n",
    "out.set(xlabel='PM 2.5 (ug/m3)')\n",
    "out.xaxis.get_label().set_fontsize(14)\n",
    "out.set_facecolor('mistyrose')\n",
    "out.grid(True)\n",
    "\n",
    "plt.show()"
   ]
  },
  {
   "cell_type": "markdown",
   "metadata": {},
   "source": [
    "The overall distribution of PM 2.5 is right-skewed for both indoor and outdoor datasets. Let's use a log on these."
   ]
  },
  {
   "cell_type": "code",
   "execution_count": null,
   "metadata": {},
   "outputs": [],
   "source": [
    "### Apply log transform on the column pm25\n",
    "outdoor2['pm25_log']=np.log(outdoor2.pm25)\n",
    "indoor['pm25_log']=np.log(indoor.pm25)\n",
    "\n",
    "### Plot log(pm25) distribution indoor and outdoor\n",
    "fig, (log_ind, log_out) = plt.subplots(1, 2, sharey=True, figsize=(12, 5), frameon=True)\n",
    "fig.suptitle('Distribution of PM 2.5 after Log Transform', fontsize=21, color='firebrick')\n",
    "fig.subplots_adjust(top=0.8)\n",
    "\n",
    "log_ind.hist(data=indoor, x='pm25_log', bins=10, range=[1,4.5], alpha=0.5, facecolor='crimson', \n",
    "         linewidth=1, histtype='bar', ec='crimson')\n",
    "log_ind.set_title('Indoor Data', fontsize=16)\n",
    "log_ind.set(xlabel='Log PM 2.5', ylabel='Frequency')\n",
    "log_ind.xaxis.get_label().set_fontsize(15)\n",
    "log_ind.yaxis.get_label().set_fontsize(15)\n",
    "log_ind.set_facecolor('mistyrose')\n",
    "log_ind.grid(True)\n",
    "\n",
    "log_out.hist(data=outdoor2, x='pm25_log', bins=10, range=[1,4.55], alpha=0.5, facecolor='green', \n",
    "         linewidth=1, histtype='bar', ec='green')\n",
    "log_out.set_title('Outdoor Data', fontsize=16)\n",
    "log_out.set(xlabel='Log PM 2.5')\n",
    "log_out.xaxis.get_label().set_fontsize(14)\n",
    "log_out.set_facecolor('mistyrose')\n",
    "log_out.grid(True)\n",
    "\n",
    "plt.show()"
   ]
  },
  {
   "cell_type": "markdown",
   "metadata": {},
   "source": [
    "After log transformation both PM 2.5 distributions do look normal enough.The function 'stats.normaltest' is a scipy function which tests the null hypothesis that a sample comes from a normal distribution (p>0.001). The results of normaltest (below) confirm the log distributions are normal."
   ]
  },
  {
   "cell_type": "code",
   "execution_count": null,
   "metadata": {},
   "outputs": [],
   "source": [
    "stat_ind, p_ind= sst.normaltest(indoor.pm25)\n",
    "stat_out, p_out= sst.normaltest(outdoor2.pm25)\n",
    "stat_indlog, p_indlog= sst.normaltest(indoor.pm25_log)\n",
    "stat_outlog, p_outlog= sst.normaltest(outdoor2.pm25_log)\n",
    "print('Normal test results indoor: s2+k2=', stat_ind,' and p=', p_ind)\n",
    "print('Normal test results outdoor: s2+k2=', stat_out, ' and p=', p_out)\n",
    "print('Normal test results indoor: s2+k2=', stat_indlog,' and p=', p_indlog)\n",
    "print('Normal test results outdoor: s2+k2=', stat_outlog, ' and p=', p_outlog)"
   ]
  },
  {
   "cell_type": "markdown",
   "metadata": {},
   "source": [
    "Outliers within the PM 2.5 or other pollutant concentrations are important data because they represent crisis events where concentrations go beyong healthy limits and therefore should be identified and counted. Boxplots are a good way to show outliers, median and mean."
   ]
  },
  {
   "cell_type": "code",
   "execution_count": null,
   "metadata": {},
   "outputs": [],
   "source": [
    "fig, (boxind, boxout)= plt.subplots(1, 2, figsize=(12, 5), frameon=True)\n",
    "fig.suptitle('PM 2.5 Outliers (circles), Median (yellow line) and Mean (blue line)', size=21, color='firebrick')\n",
    "fig.subplots_adjust(top=0.8)\n",
    "### plt.boxplot(data,sym='',widths=0.75, patch_artist=True)\n",
    "\n",
    "medianprops1 = dict(linestyle='-', linewidth=2.5, color='gold')\n",
    "meanlineprops1 = dict(linestyle='-', linewidth=2.5, color='royalblue')\n",
    "\n",
    "boxind.set_title('PM 2.5')\n",
    "boxind.boxplot(indoor.pm25,\n",
    "               boxprops=dict(linestyle='-', linewidth=2.5, facecolor='crimson',color='crimson', alpha=0.5),\n",
    "               flierprops=dict(marker='o', markersize=8, linestyle='none', markeredgecolor='crimson', markeredgewidth=2.5),\n",
    "               medianprops=medianprops1, meanprops=meanlineprops1, showmeans=True, meanline=True,\n",
    "               patch_artist=True, notch=True,\n",
    "               whiskerprops=dict(color='crimson', linewidth=2.5),\n",
    "               capprops=dict(color='crimson', linewidth=2.5))\n",
    "boxind.set(xlabel='Indoor', ylabel='Concentration (ug/m3)')\n",
    "boxind.xaxis.get_label().set_fontsize(15)\n",
    "boxind.yaxis.get_label().set_fontsize(15)\n",
    "boxind.set_facecolor('mistyrose')\n",
    "boxind.grid(True)\n",
    "\n",
    "boxout.boxplot(outdoor2.pm25,\n",
    "               boxprops=dict(linestyle='-', linewidth=2.5, facecolor='green',color='green', alpha=0.6),\n",
    "               flierprops=dict(marker='o', markersize=8, linestyle='none', markeredgecolor='green', markeredgewidth=2.5),\n",
    "               medianprops=medianprops1, meanprops=meanlineprops1, showmeans=True, meanline=True,\n",
    "               patch_artist=True, notch=True,\n",
    "               whiskerprops=dict(color='green', linewidth=2.5),\n",
    "               capprops=dict(color='green',linewidth=2.5))\n",
    "boxout.set(xlabel='PM 2.5', ylabel='Concentration (ug/m3)')\n",
    "boxout.set_title('PM 2.5')\n",
    "boxout.set(xlabel='Outdoor')\n",
    "boxout.xaxis.get_label().set_fontsize(15)\n",
    "boxout.yaxis.get_label().set_fontsize(15)\n",
    "boxout.set_facecolor('mistyrose')\n",
    "boxout.grid(True)\n",
    "\n",
    "plt.show()"
   ]
  },
  {
   "cell_type": "markdown",
   "metadata": {},
   "source": [
    "While the mean and median values of indoor (16.8 ug/m3, 13.4 ug/m3) and outdoor (14.6 ug/m3, 13.2 ug/m3) PM 2.5 concentrations are close, the indoor concentrations spread towards higher values (i.e. the end of 4th quartile at 42 ug/m3 with outliers up to 80 ug/m3) than the outdoor concentrations (i.e. remain below 35 ug/m3).\n",
    "\n",
    "Going back to the Data Wrangling Notebook, I checked remarks and other measurement found in the original file PM_Mass.xlsx. The reasons behind the outliers are:\n",
    "\n",
    "- The extreme indoor value at 78.9 ug/m3 is not associated with an outdoor value because the electricity went off as stated in the PM_Mass.xlsx (\"the Harvard outdoor final flow not taken because electricity went off\"). I choose to drop it from the indoor dataframe.\n",
    "- The extreme indoor value at 58.2 ug/m3 has been measured from 04/10/2000 to 04/12/2000 in homeid TX047. Another measurement was taken from 04/12/2000 to 04/14/2000 which showed a value of 8 ug/m3 which is closer to the outdoor value of 6 ug/m3 measured during the same time period. I choose to drop the value 58.2.\n",
    "- There is no reason to drop the extreme indoor value of 58.2 ug/m3 in homeid TX007. The associated outdoor value is 26 ug/m3. There was likely an indoor source of PM 2.5.\n",
    "- Indoor outliers in the 40s are fine."
   ]
  },
  {
   "cell_type": "code",
   "execution_count": null,
   "metadata": {},
   "outputs": [],
   "source": [
    "### removing selected outliers\n",
    "cond1=indoor.pm25 != 78.9\n",
    "cond2=indoor.pm25 != 58.2\n",
    "indoor2=indoor[cond1 & cond2]\n",
    "indoor2.shape"
   ]
  },
  {
   "cell_type": "code",
   "execution_count": null,
   "metadata": {},
   "outputs": [],
   "source": [
    "fig, (boxind2, boxout2)= plt.subplots(1, 2, figsize=(12, 5), sharey=True, frameon=True)\n",
    "fig.suptitle('PM 2.5 Outliers After Removal of Extreme Indoor Values', size=21, color='firebrick')\n",
    "fig.subplots_adjust(top=0.8)\n",
    "### plt.boxplot(data,sym='',widths=0.75, patch_artist=True)\n",
    "\n",
    "medianprops1 = dict(linestyle='-', linewidth=2.5, color='gold')\n",
    "meanlineprops1 = dict(linestyle='-', linewidth=2.5, color='royalblue')\n",
    "\n",
    "boxind2.set_title('PM 2.5')\n",
    "boxind2.boxplot(indoor2.pm25,\n",
    "               boxprops=dict(linestyle='-', linewidth=2.5, facecolor='crimson',color='crimson', alpha=0.5),\n",
    "               flierprops=dict(marker='o', markersize=8, linestyle='none', markeredgecolor='crimson', markeredgewidth=2.5),\n",
    "               medianprops=medianprops1, meanprops=meanlineprops1, showmeans=True, meanline=True,\n",
    "               patch_artist=True, notch=True,\n",
    "               whiskerprops=dict(color='crimson', linewidth=2.5),\n",
    "               capprops=dict(color='crimson', linewidth=2.5))\n",
    "boxind2.set(xlabel='Indoor', ylabel='Concentration (ug/m3)')\n",
    "boxind2.xaxis.get_label().set_fontsize(15)\n",
    "boxind2.yaxis.get_label().set_fontsize(15)\n",
    "boxind2.set_facecolor('mistyrose')\n",
    "boxind2.grid(True)\n",
    "\n",
    "boxout2.boxplot(outdoor2.pm25,\n",
    "               boxprops=dict(linestyle='-', linewidth=2.5, facecolor='green',color='green', alpha=0.6),\n",
    "               flierprops=dict(marker='o', markersize=8, linestyle='none', markeredgecolor='green', markeredgewidth=2.5),\n",
    "               medianprops=medianprops1, meanprops=meanlineprops1, showmeans=True, meanline=True,\n",
    "               patch_artist=True, notch=True,\n",
    "               whiskerprops=dict(color='green', linewidth=2.5),\n",
    "               capprops=dict(color='green',linewidth=2.5))\n",
    "boxout2.set(xlabel='PM 2.5')\n",
    "boxout2.set_title('PM 2.5')\n",
    "boxout2.set(xlabel='Outdoor')\n",
    "boxout2.xaxis.get_label().set_fontsize(15)\n",
    "boxout2.yaxis.get_label().set_fontsize(15)\n",
    "boxout2.set_facecolor('mistyrose')\n",
    "boxout2.grid(True)\n",
    "\n",
    "plt.show()"
   ]
  },
  {
   "cell_type": "markdown",
   "metadata": {},
   "source": [
    "Let's rename column in indoor2 and outdoor2 to prepare for a merge\n",
    "\n",
    "Then we will have a quick look at outliers in the other columns by plotting other bocxplots. Replace zero of ambient temperature C and rh by the mean\n",
    "and with dataframe.hist\n",
    "and heat map"
   ]
  },
  {
   "cell_type": "code",
   "execution_count": null,
   "metadata": {},
   "outputs": [],
   "source": [
    "indoor2.columns"
   ]
  },
  {
   "cell_type": "code",
   "execution_count": null,
   "metadata": {},
   "outputs": [],
   "source": [
    "outdoor2.columns"
   ]
  },
  {
   "cell_type": "code",
   "execution_count": null,
   "metadata": {},
   "outputs": [],
   "source": [
    "in2=indoor2.hist(bins=10, figsize=(10,10))"
   ]
  },
  {
   "cell_type": "code",
   "execution_count": null,
   "metadata": {},
   "outputs": [],
   "source": [
    "ou2=outdoor2.hist(bins=10, figsize=(10,10))"
   ]
  },
  {
   "cell_type": "code",
   "execution_count": null,
   "metadata": {},
   "outputs": [],
   "source": [
    "fig, (pl1, pl3)= plt.subplots(1, 2, sharex=True, figsize=(12, 5), frameon=True)\n",
    "fig.suptitle('Overview Through Time PM 2.5 Indoor (red) and Outdoor (green)', size=21, color='firebrick')\n",
    "fig.subplots_adjust(top=0.8)\n",
    "\n",
    "#flierprops = dict(marker='o', markerfacecolor='dodgerblue', markersize=8,linestyle='none', markeredgecolor='darkblue')\n",
    "pl1.set_title('PM 2.5')\n",
    "pl1.scatter(indoor2.date,indoor2.pm25, color='crimson', alpha=0.75)\n",
    "pl1.scatter(outdoor2.date,outdoor2.pm25, color='green', alpha=0.75)\n",
    "pl1.set(xlabel='Date', ylabel='PM 2.5 (ug/m3)')\n",
    "pl1.xaxis.get_label().set_fontsize(15)\n",
    "pl1.yaxis.get_label().set_fontsize(15)\n",
    "plt.setp(pl1.get_xticklabels(), rotation=45)\n",
    "pl1.set_facecolor('mistyrose')\n",
    "pl1.grid(True)\n",
    "\n",
    "pl3.set_title('Log PM 2.5')\n",
    "pl3.scatter(indoor2.date,indoor2.pm25_log, color='crimson', alpha=0.75)\n",
    "pl3.scatter(outdoor2.date,outdoor2.pm25_log, color='green', alpha=0.75)\n",
    "pl3.set(xlabel='Date', ylabel='Log PM 2.5')\n",
    "pl3.xaxis.get_label().set_fontsize(15)\n",
    "plt.setp(pl3.get_xticklabels(), rotation=45)\n",
    "pl3.yaxis.get_label().set_fontsize(15)\n",
    "pl3.set_facecolor('mistyrose')\n",
    "pl3.grid(True)"
   ]
  },
  {
   "cell_type": "markdown",
   "metadata": {},
   "source": []
  },
  {
   "cell_type": "code",
   "execution_count": null,
   "metadata": {},
   "outputs": [],
   "source": []
  },
  {
   "cell_type": "code",
   "execution_count": null,
   "metadata": {},
   "outputs": [],
   "source": []
  },
  {
   "cell_type": "code",
   "execution_count": null,
   "metadata": {},
   "outputs": [],
   "source": []
  },
  {
   "cell_type": "code",
   "execution_count": null,
   "metadata": {},
   "outputs": [],
   "source": []
  },
  {
   "cell_type": "code",
   "execution_count": null,
   "metadata": {},
   "outputs": [],
   "source": []
  },
  {
   "cell_type": "code",
   "execution_count": null,
   "metadata": {},
   "outputs": [],
   "source": []
  },
  {
   "cell_type": "code",
   "execution_count": null,
   "metadata": {},
   "outputs": [],
   "source": [
    "\n"
   ]
  }
 ],
 "metadata": {
  "kernelspec": {
   "display_name": "Python 3",
   "language": "python",
   "name": "python3"
  },
  "language_info": {
   "codemirror_mode": {
    "name": "ipython",
    "version": 3
   },
   "file_extension": ".py",
   "mimetype": "text/x-python",
   "name": "python",
   "nbconvert_exporter": "python",
   "pygments_lexer": "ipython3",
   "version": "3.7.9"
  }
 },
 "nbformat": 4,
 "nbformat_minor": 4
}
