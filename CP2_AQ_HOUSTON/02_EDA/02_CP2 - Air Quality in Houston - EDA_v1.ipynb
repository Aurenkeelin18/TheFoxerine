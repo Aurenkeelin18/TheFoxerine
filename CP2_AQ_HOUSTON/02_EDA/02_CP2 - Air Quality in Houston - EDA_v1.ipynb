{
 "cells": [
  {
   "cell_type": "markdown",
   "metadata": {},
   "source": [
    "# Air Quality in Houston - Step 2: Exploratory Data Analysis#\n",
    "\n",
    "\n",
    " The datasets have been cleaned up as much as possible in the Data Wrangling notebook. Now is time to get into the core characteristics of these datasets, explore relationships between data and define reliable features for subsequent modelling.\n",
    " First, let's import modules and saved dataframes (which can be found under '00_SavedDataframes')."
   ]
  },
  {
   "cell_type": "code",
   "execution_count": 1,
   "metadata": {},
   "outputs": [],
   "source": [
    "### Import libraries\n",
    "import numpy as np\n",
    "import pandas as pd\n",
    "import glob\n",
    "import datetime\n",
    "import matplotlib.pyplot as plt\n",
    "import seaborn as sns\n",
    "import scipy.stats as sst\n",
    "import geopandas as gpd\n",
    "import json\n",
    "import copy\n",
    "from collections import defaultdict,OrderedDict, namedtuple\n",
    "from sklearn.preprocessing import PowerTransformer\n",
    "\n",
    "### Location of dataframes and mapping files\n",
    "path_header='C:\\\\Users\\\\Anne\\\\Documents\\\\GIT\\\\TheFoxerine\\\\'\n",
    "path_df='CP2_AQ_HOUSTON\\\\00_SavedDataframes\\\\'\n",
    "path_saf='CP2_AQ_HOUSTON\\\\00_OriginalData\\\\00_StuffAndThings\\\\'"
   ]
  },
  {
   "cell_type": "markdown",
   "metadata": {},
   "source": [
    "There are 15 excel files to load and of course as many dataframes to name. To facilitate the loading, naming and easy utilisation of the dataframes, a dictionary of dataframes 'dico_df'  is created using the module glob and the module copy. dico_df stores the name of the dataframe as key and the dataframe as value (dico_df {dataframe_name: dataframe}) and locally defines and assigns the correct name to the dataframe using the method globals(). "
   ]
  },
  {
   "cell_type": "code",
   "execution_count": 2,
   "metadata": {},
   "outputs": [
    {
     "name": "stdout",
     "output_type": "stream",
     "text": [
      "dict_keys(['epa', 'epa_co', 'epa_no2', 'epa_ozone', 'epa_pb', 'epa_pm10', 'epa_pm25', 'epa_so2', 'meteo_simple', 'riopa_indoor', 'riopa_outdoor', 'riopa_slim', 'stations_all', 'stations_epa', 'stations_epatamis', 'stations_meteo', 'stations_tamis', 'tamis_co', 'tamis_no2', 'tamis_ozone', 'tamis_pb', 'tamis_pm10', 'tamis_pm25', 'tamis_so2'])\n"
     ]
    }
   ],
   "source": [
    "### Create a dictionary of dataframe so that I know where to find\n",
    "### the material I need without having to endlessly scroll up and down.\n",
    "\n",
    "### empty dictionary that will contain filenames and dataframes ###\n",
    "dico_df = {}\n",
    "\n",
    "### glob fetches all xls files in the folder ###\n",
    "allfiles = glob.glob(path_header+path_df + '*.xlsx')\n",
    "\n",
    "### Because Python is all about dictionaries ;) ###\n",
    "for filename in allfiles:\n",
    "    df = pd.read_excel(filename,index_col=0)\n",
    "    filename=filename[74::]\n",
    "    filename_len=len(filename)\n",
    "    filename=filename[0:(filename_len-5)]\n",
    "    key_name = str(filename)    \n",
    "    dico_df[key_name] = copy.deepcopy(df)\n",
    "\n",
    "### dico_df is ready\n",
    "### the key is the name of the df\n",
    "### the value is the df itself\n",
    "print(dico_df.keys())\n"
   ]
  },
  {
   "cell_type": "code",
   "execution_count": 3,
   "metadata": {},
   "outputs": [
    {
     "data": {
      "text/html": [
       "<div>\n",
       "<style scoped>\n",
       "    .dataframe tbody tr th:only-of-type {\n",
       "        vertical-align: middle;\n",
       "    }\n",
       "\n",
       "    .dataframe tbody tr th {\n",
       "        vertical-align: top;\n",
       "    }\n",
       "\n",
       "    .dataframe thead th {\n",
       "        text-align: right;\n",
       "    }\n",
       "</style>\n",
       "<table border=\"1\" class=\"dataframe\">\n",
       "  <thead>\n",
       "    <tr style=\"text-align: right;\">\n",
       "      <th></th>\n",
       "      <th>date</th>\n",
       "      <th>co_8hr_source</th>\n",
       "      <th>co_8hr_poc</th>\n",
       "      <th>site_id</th>\n",
       "      <th>co_8hr_max</th>\n",
       "      <th>co_8hr_units</th>\n",
       "      <th>site_name</th>\n",
       "      <th>co_8hr_obs_count</th>\n",
       "      <th>site_lat</th>\n",
       "      <th>site_lon</th>\n",
       "    </tr>\n",
       "  </thead>\n",
       "  <tbody>\n",
       "    <tr>\n",
       "      <th>0</th>\n",
       "      <td>2008-01-01</td>\n",
       "      <td>AQS</td>\n",
       "      <td>1</td>\n",
       "      <td>482010024</td>\n",
       "      <td>0.2</td>\n",
       "      <td>ppm</td>\n",
       "      <td>Houston Aldine</td>\n",
       "      <td>19</td>\n",
       "      <td>29.901036</td>\n",
       "      <td>-95.326137</td>\n",
       "    </tr>\n",
       "    <tr>\n",
       "      <th>1</th>\n",
       "      <td>2008-01-02</td>\n",
       "      <td>AQS</td>\n",
       "      <td>1</td>\n",
       "      <td>482010024</td>\n",
       "      <td>0.3</td>\n",
       "      <td>ppm</td>\n",
       "      <td>Houston Aldine</td>\n",
       "      <td>24</td>\n",
       "      <td>29.901036</td>\n",
       "      <td>-95.326137</td>\n",
       "    </tr>\n",
       "    <tr>\n",
       "      <th>2</th>\n",
       "      <td>2008-01-03</td>\n",
       "      <td>AQS</td>\n",
       "      <td>1</td>\n",
       "      <td>482010024</td>\n",
       "      <td>0.3</td>\n",
       "      <td>ppm</td>\n",
       "      <td>Houston Aldine</td>\n",
       "      <td>24</td>\n",
       "      <td>29.901036</td>\n",
       "      <td>-95.326137</td>\n",
       "    </tr>\n",
       "    <tr>\n",
       "      <th>3</th>\n",
       "      <td>2008-01-04</td>\n",
       "      <td>AQS</td>\n",
       "      <td>1</td>\n",
       "      <td>482010024</td>\n",
       "      <td>0.2</td>\n",
       "      <td>ppm</td>\n",
       "      <td>Houston Aldine</td>\n",
       "      <td>24</td>\n",
       "      <td>29.901036</td>\n",
       "      <td>-95.326137</td>\n",
       "    </tr>\n",
       "    <tr>\n",
       "      <th>4</th>\n",
       "      <td>2008-01-05</td>\n",
       "      <td>AQS</td>\n",
       "      <td>1</td>\n",
       "      <td>482010024</td>\n",
       "      <td>0.3</td>\n",
       "      <td>ppm</td>\n",
       "      <td>Houston Aldine</td>\n",
       "      <td>24</td>\n",
       "      <td>29.901036</td>\n",
       "      <td>-95.326137</td>\n",
       "    </tr>\n",
       "  </tbody>\n",
       "</table>\n",
       "</div>"
      ],
      "text/plain": [
       "        date co_8hr_source  co_8hr_poc    site_id  co_8hr_max co_8hr_units  \\\n",
       "0 2008-01-01           AQS           1  482010024         0.2          ppm   \n",
       "1 2008-01-02           AQS           1  482010024         0.3          ppm   \n",
       "2 2008-01-03           AQS           1  482010024         0.3          ppm   \n",
       "3 2008-01-04           AQS           1  482010024         0.2          ppm   \n",
       "4 2008-01-05           AQS           1  482010024         0.3          ppm   \n",
       "\n",
       "        site_name  co_8hr_obs_count   site_lat   site_lon  \n",
       "0  Houston Aldine                19  29.901036 -95.326137  \n",
       "1  Houston Aldine                24  29.901036 -95.326137  \n",
       "2  Houston Aldine                24  29.901036 -95.326137  \n",
       "3  Houston Aldine                24  29.901036 -95.326137  \n",
       "4  Houston Aldine                24  29.901036 -95.326137  "
      ]
     },
     "execution_count": 3,
     "metadata": {},
     "output_type": "execute_result"
    }
   ],
   "source": [
    "### Let's unwrap all df with the correct name\n",
    "for k,v in dico_df.items():\n",
    "    globals()[f'{k}'] =v\n",
    "    \n",
    "### Let's look at one df, epa_co\n",
    "epa_co.head()"
   ]
  },
  {
   "cell_type": "markdown",
   "metadata": {},
   "source": [
    "## 1. Indoor vs. Outdoor (RIOPA) ##\n",
    "The RIOPA data is being used in this project to attempt to model indoor air from outdoor air data and additional category such as landuse, temperature...etc..\n",
    "\n",
    "### 1.1. The Data: ###\n",
    "The indoor and outdoor data are saved in the dataframes 'riopa_indoor' and riopa_outdoor', respectively. The outdoor data lacks 'land use' and 'location' information because it was not provided with the original report for outdoor data and the linkid of outdoor data is different from the one for indoor data. I need this information to plot the outdoor data and later to be able to connect this outdoor data to the EPA and TECQ/Tamis data.\n",
    "As the outdoor sampling was done close to the home where the indoor sampling was performed, I will just add the land use, location longitude, location latitude, census block code and geoid number from the indoor data to the outdoor data.\n",
    "There is a little trick in the linkid: the linkid of indoor data ends by '10' whereas the linkid of the outdoor data ends by '20'. The 6 first digits of the linkid is the link between outdoor and indoor entries. Consequently, I will merge land use and location information from the riopa_indoor dataset to the riopa_outdoor dataset on a 6 digit linkid."
   ]
  },
  {
   "cell_type": "code",
   "execution_count": 4,
   "metadata": {},
   "outputs": [
    {
     "data": {
      "text/html": [
       "<div>\n",
       "<style scoped>\n",
       "    .dataframe tbody tr th:only-of-type {\n",
       "        vertical-align: middle;\n",
       "    }\n",
       "\n",
       "    .dataframe tbody tr th {\n",
       "        vertical-align: top;\n",
       "    }\n",
       "\n",
       "    .dataframe thead th {\n",
       "        text-align: right;\n",
       "    }\n",
       "</style>\n",
       "<table border=\"1\" class=\"dataframe\">\n",
       "  <thead>\n",
       "    <tr style=\"text-align: right;\">\n",
       "      <th></th>\n",
       "      <th>linkid</th>\n",
       "      <th>sampleid</th>\n",
       "      <th>homeid</th>\n",
       "      <th>airtype</th>\n",
       "      <th>pm25</th>\n",
       "      <th>date_start_pm25</th>\n",
       "      <th>date_end_pm25</th>\n",
       "      <th>date</th>\n",
       "      <th>landuse_class</th>\n",
       "      <th>ambient_temp_c</th>\n",
       "      <th>ambient_rh</th>\n",
       "      <th>airexrate</th>\n",
       "      <th>temp_dry</th>\n",
       "      <th>dew_point</th>\n",
       "      <th>temp_wet</th>\n",
       "      <th>rh</th>\n",
       "      <th>census_group_block_code</th>\n",
       "      <th>home_lat</th>\n",
       "      <th>home_long</th>\n",
       "    </tr>\n",
       "  </thead>\n",
       "  <tbody>\n",
       "    <tr>\n",
       "      <th>0</th>\n",
       "      <td>TX103110</td>\n",
       "      <td>10951</td>\n",
       "      <td>EX103</td>\n",
       "      <td>INDOOR</td>\n",
       "      <td>15.2</td>\n",
       "      <td>2000-10-17</td>\n",
       "      <td>2000-10-19</td>\n",
       "      <td>2000-10-17</td>\n",
       "      <td>deciduous forest</td>\n",
       "      <td>21.1000</td>\n",
       "      <td>0.0000</td>\n",
       "      <td>0.176838</td>\n",
       "      <td>69.283667</td>\n",
       "      <td>60.049633</td>\n",
       "      <td>63.702133</td>\n",
       "      <td>75.858133</td>\n",
       "      <td>4.820125e+11</td>\n",
       "      <td>29.787702</td>\n",
       "      <td>-95.096897</td>\n",
       "    </tr>\n",
       "    <tr>\n",
       "      <th>3</th>\n",
       "      <td>TX104110</td>\n",
       "      <td>10889</td>\n",
       "      <td>EX104</td>\n",
       "      <td>INDOOR</td>\n",
       "      <td>13.0</td>\n",
       "      <td>2000-09-26</td>\n",
       "      <td>2000-09-28</td>\n",
       "      <td>2000-09-26</td>\n",
       "      <td>high intensity residential</td>\n",
       "      <td>18.3300</td>\n",
       "      <td>0.0000</td>\n",
       "      <td>2.384460</td>\n",
       "      <td>66.305533</td>\n",
       "      <td>51.388900</td>\n",
       "      <td>57.777800</td>\n",
       "      <td>63.458333</td>\n",
       "      <td>4.820125e+11</td>\n",
       "      <td>NaN</td>\n",
       "      <td>NaN</td>\n",
       "    </tr>\n",
       "    <tr>\n",
       "      <th>7</th>\n",
       "      <td>TX106110</td>\n",
       "      <td>10965</td>\n",
       "      <td>EX106</td>\n",
       "      <td>INDOOR</td>\n",
       "      <td>9.3</td>\n",
       "      <td>2000-11-09</td>\n",
       "      <td>2000-11-11</td>\n",
       "      <td>2000-11-09</td>\n",
       "      <td>pasture, hay</td>\n",
       "      <td>0.0000</td>\n",
       "      <td>0.0000</td>\n",
       "      <td>0.000000</td>\n",
       "      <td>51.127667</td>\n",
       "      <td>43.808500</td>\n",
       "      <td>47.539033</td>\n",
       "      <td>78.886533</td>\n",
       "      <td>4.820125e+11</td>\n",
       "      <td>NaN</td>\n",
       "      <td>NaN</td>\n",
       "    </tr>\n",
       "    <tr>\n",
       "      <th>10</th>\n",
       "      <td>TX104210</td>\n",
       "      <td>10986</td>\n",
       "      <td>EX204</td>\n",
       "      <td>INDOOR</td>\n",
       "      <td>17.2</td>\n",
       "      <td>2000-12-15</td>\n",
       "      <td>2000-12-17</td>\n",
       "      <td>2000-12-15</td>\n",
       "      <td>high intensity residential</td>\n",
       "      <td>19.4908</td>\n",
       "      <td>49.3269</td>\n",
       "      <td>2.465370</td>\n",
       "      <td>52.046667</td>\n",
       "      <td>36.953333</td>\n",
       "      <td>45.780000</td>\n",
       "      <td>61.353333</td>\n",
       "      <td>4.820125e+11</td>\n",
       "      <td>NaN</td>\n",
       "      <td>NaN</td>\n",
       "    </tr>\n",
       "    <tr>\n",
       "      <th>14</th>\n",
       "      <td>TX106210</td>\n",
       "      <td>10982</td>\n",
       "      <td>EX206</td>\n",
       "      <td>INDOOR</td>\n",
       "      <td>11.6</td>\n",
       "      <td>2001-01-15</td>\n",
       "      <td>2001-01-17</td>\n",
       "      <td>2001-01-15</td>\n",
       "      <td>pasture, hay</td>\n",
       "      <td>0.0000</td>\n",
       "      <td>0.0000</td>\n",
       "      <td>1.713790</td>\n",
       "      <td>52.573567</td>\n",
       "      <td>49.035600</td>\n",
       "      <td>50.758567</td>\n",
       "      <td>89.278933</td>\n",
       "      <td>4.820125e+11</td>\n",
       "      <td>NaN</td>\n",
       "      <td>NaN</td>\n",
       "    </tr>\n",
       "  </tbody>\n",
       "</table>\n",
       "</div>"
      ],
      "text/plain": [
       "      linkid  sampleid homeid airtype  pm25 date_start_pm25 date_end_pm25  \\\n",
       "0   TX103110     10951  EX103  INDOOR  15.2      2000-10-17    2000-10-19   \n",
       "3   TX104110     10889  EX104  INDOOR  13.0      2000-09-26    2000-09-28   \n",
       "7   TX106110     10965  EX106  INDOOR   9.3      2000-11-09    2000-11-11   \n",
       "10  TX104210     10986  EX204  INDOOR  17.2      2000-12-15    2000-12-17   \n",
       "14  TX106210     10982  EX206  INDOOR  11.6      2001-01-15    2001-01-17   \n",
       "\n",
       "         date               landuse_class  ambient_temp_c  ambient_rh  \\\n",
       "0  2000-10-17            deciduous forest         21.1000      0.0000   \n",
       "3  2000-09-26  high intensity residential         18.3300      0.0000   \n",
       "7  2000-11-09                pasture, hay          0.0000      0.0000   \n",
       "10 2000-12-15  high intensity residential         19.4908     49.3269   \n",
       "14 2001-01-15                pasture, hay          0.0000      0.0000   \n",
       "\n",
       "    airexrate   temp_dry  dew_point   temp_wet         rh  \\\n",
       "0    0.176838  69.283667  60.049633  63.702133  75.858133   \n",
       "3    2.384460  66.305533  51.388900  57.777800  63.458333   \n",
       "7    0.000000  51.127667  43.808500  47.539033  78.886533   \n",
       "10   2.465370  52.046667  36.953333  45.780000  61.353333   \n",
       "14   1.713790  52.573567  49.035600  50.758567  89.278933   \n",
       "\n",
       "    census_group_block_code   home_lat  home_long  \n",
       "0              4.820125e+11  29.787702 -95.096897  \n",
       "3              4.820125e+11        NaN        NaN  \n",
       "7              4.820125e+11        NaN        NaN  \n",
       "10             4.820125e+11        NaN        NaN  \n",
       "14             4.820125e+11        NaN        NaN  "
      ]
     },
     "execution_count": 4,
     "metadata": {},
     "output_type": "execute_result"
    }
   ],
   "source": [
    "riopa_indoor.head()"
   ]
  },
  {
   "cell_type": "code",
   "execution_count": 5,
   "metadata": {},
   "outputs": [
    {
     "data": {
      "text/plain": [
       "(120, 19)"
      ]
     },
     "execution_count": 5,
     "metadata": {},
     "output_type": "execute_result"
    }
   ],
   "source": [
    "riopa_indoor.shape"
   ]
  },
  {
   "cell_type": "code",
   "execution_count": 6,
   "metadata": {},
   "outputs": [
    {
     "data": {
      "text/plain": [
       "(126, 19)"
      ]
     },
     "execution_count": 6,
     "metadata": {},
     "output_type": "execute_result"
    }
   ],
   "source": [
    "riopa_outdoor.shape"
   ]
  },
  {
   "cell_type": "code",
   "execution_count": 7,
   "metadata": {},
   "outputs": [
    {
     "data": {
      "text/plain": [
       "array(['TX103110', 'TX104110', 'TX106110', 'TX104210', 'TX106210',\n",
       "       'TX001110', 'TX002110', 'TX004110', 'TX005110', 'TX006110',\n",
       "       'TX007110', 'TX008110', 'TX009110', 'TX010110', 'TX011110',\n",
       "       'TX012110', 'TX013110', 'TX014110', 'TX015110', 'TX016110',\n",
       "       'TX017110', 'TX018110', 'TX020110', 'TX021110', 'TX022110',\n",
       "       'TX023110', 'TX024110', 'TX025110', 'TX026110', 'TX027110',\n",
       "       'TX028110', 'TX029110', 'TX030110', 'TX032110', 'TX033110',\n",
       "       'TX034110', 'TX035110', 'TX036110', 'TX037110', 'TX038110',\n",
       "       'TX039110', 'TX040110', 'TX041110', 'TX042110', 'TX043110',\n",
       "       'TX044110', 'TX045110', 'TX046110', 'TX047110', 'TX048110',\n",
       "       'TX049110', 'TX050110', 'TX051110', 'TX052110', 'TX054110',\n",
       "       'TX055110', 'TX056110', 'TX057110', 'TX058110', 'TX059110',\n",
       "       'TX063110', 'TX064110', 'TX072110', 'TX073110', 'TX074110',\n",
       "       'TX076110', 'TX092110', 'TX001210', 'TX002210', 'TX003210',\n",
       "       'TX004210', 'TX005210', 'TX006210', 'TX008210', 'TX009210',\n",
       "       'TX010210', 'TX011210', 'TX012210', 'TX013210', 'TX014210',\n",
       "       'TX015210', 'TX018210', 'TX020210', 'TX021210', 'TX022210',\n",
       "       'TX023210', 'TX025210', 'TX026210', 'TX027210', 'TX029210',\n",
       "       'TX031210', 'TX032210', 'TX033210', 'TX035210', 'TX037210',\n",
       "       'TX038210', 'TX039210', 'TX040210', 'TX041210', 'TX043210',\n",
       "       'TX044210', 'TX045210', 'TX047210', 'TX048210', 'TX049210',\n",
       "       'TX050210', 'TX051210', 'TX052210', 'TX053210', 'TX054210',\n",
       "       'TX056210', 'TX057210', 'TX058210', 'TX059210', 'TX063210',\n",
       "       'TX072210', 'TX073210', 'TX074210'], dtype=object)"
      ]
     },
     "execution_count": 7,
     "metadata": {},
     "output_type": "execute_result"
    }
   ],
   "source": [
    "riopa_indoor.linkid.unique()"
   ]
  },
  {
   "cell_type": "code",
   "execution_count": 8,
   "metadata": {},
   "outputs": [
    {
     "data": {
      "text/plain": [
       "array(['TX103120', 'TX104120', 'TX106120', 'TX104220', 'TX001120',\n",
       "       'TX002120', 'TX003120', 'TX004120', 'TX005120', 'TX006120',\n",
       "       'TX007120', 'TX009120', 'TX010120', 'TX011120', 'TX012120',\n",
       "       'TX013120', 'TX014120', 'TX015120', 'TX016120', 'TX017120',\n",
       "       'TX018120', 'TX019120', 'TX020120', 'TX021120', 'TX022120',\n",
       "       'TX023120', 'TX024120', 'TX025120', 'TX026120', 'TX027120',\n",
       "       'TX028120', 'TX029120', 'TX030120', 'TX031120', 'TX032120',\n",
       "       'TX033120', 'TX034120', 'TX035120', 'TX036120', 'TX037120',\n",
       "       'TX038120', 'TX039120', 'TX040120', 'TX041120', 'TX042120',\n",
       "       'TX043120', 'TX044120', 'TX045120', 'TX046120', 'TX047120',\n",
       "       'TX048120', 'TX049120', 'TX050120', 'TX051120', 'TX052120',\n",
       "       'TX053120', 'TX055120', 'TX056120', 'TX057120', 'TX058120',\n",
       "       'TX059120', 'TX063120', 'TX064120', 'TX072120', 'TX073120',\n",
       "       'TX074120', 'TX076120', 'TX092120', 'TX001220', 'TX002220',\n",
       "       'TX003220', 'TX004220', 'TX005220', 'TX006220', 'TX007220',\n",
       "       'TX008220', 'TX009220', 'TX010220', 'TX011220', 'TX012220',\n",
       "       'TX013220', 'TX014220', 'TX015220', 'TX018220', 'TX019220',\n",
       "       'TX020220', 'TX021220', 'TX022220', 'TX023220', 'TX025220',\n",
       "       'TX026220', 'TX027220', 'TX028220', 'TX029220', 'TX030220',\n",
       "       'TX031220', 'TX032220', 'TX033220', 'TX035220', 'TX037220',\n",
       "       'TX038220', 'TX039220', 'TX040220', 'TX041220', 'TX043220',\n",
       "       'TX044220', 'TX045220', 'TX047220', 'TX048220', 'TX049220',\n",
       "       'TX050220', 'TX051220', 'TX052220', 'TX053220', 'TX054220',\n",
       "       'TX055220', 'TX058220', 'TX059220', 'TX063220', 'TX064220',\n",
       "       'TX072220', 'TX074220'], dtype=object)"
      ]
     },
     "execution_count": 8,
     "metadata": {},
     "output_type": "execute_result"
    }
   ],
   "source": [
    "riopa_outdoor.linkid.unique()"
   ]
  },
  {
   "cell_type": "code",
   "execution_count": 9,
   "metadata": {},
   "outputs": [
    {
     "name": "stderr",
     "output_type": "stream",
     "text": [
      "C:\\Users\\Anne\\anaconda3\\lib\\site-packages\\pandas\\core\\frame.py:4167: SettingWithCopyWarning: \n",
      "A value is trying to be set on a copy of a slice from a DataFrame\n",
      "\n",
      "See the caveats in the documentation: https://pandas.pydata.org/pandas-docs/stable/user_guide/indexing.html#returning-a-view-versus-a-copy\n",
      "  errors=errors,\n",
      "C:\\Users\\Anne\\anaconda3\\lib\\site-packages\\ipykernel_launcher.py:18: SettingWithCopyWarning: \n",
      "A value is trying to be set on a copy of a slice from a DataFrame.\n",
      "Try using .loc[row_indexer,col_indexer] = value instead\n",
      "\n",
      "See the caveats in the documentation: https://pandas.pydata.org/pandas-docs/stable/user_guide/indexing.html#returning-a-view-versus-a-copy\n",
      "C:\\Users\\Anne\\anaconda3\\lib\\site-packages\\ipykernel_launcher.py:19: SettingWithCopyWarning: \n",
      "A value is trying to be set on a copy of a slice from a DataFrame.\n",
      "Try using .loc[row_indexer,col_indexer] = value instead\n",
      "\n",
      "See the caveats in the documentation: https://pandas.pydata.org/pandas-docs/stable/user_guide/indexing.html#returning-a-view-versus-a-copy\n"
     ]
    },
    {
     "data": {
      "text/plain": [
       "date                        0\n",
       "linkid                      0\n",
       "sampleid                    0\n",
       "homeid                      0\n",
       "airtype                     0\n",
       "pm25                        0\n",
       "ambient_temp_c              0\n",
       "ambient_rh                  0\n",
       "airexrate                   0\n",
       "temp_dry                    1\n",
       "dew_point                   1\n",
       "temp_wet                    1\n",
       "rh                          1\n",
       "common_id                   0\n",
       "landuse_class              11\n",
       "census_group_block_code    12\n",
       "home_lat                   93\n",
       "home_long                  93\n",
       "dtype: int64"
      ]
     },
     "execution_count": 9,
     "metadata": {},
     "output_type": "execute_result"
    }
   ],
   "source": [
    "### Drop excess information (additional date columns)\n",
    "### Select the essential. I chose to subset instead of \n",
    "### dropping the columns so that I can quickly copy paste\n",
    "### column names I would need later\n",
    "riopa_interest=['date','linkid','sampleid','homeid','airtype',\n",
    "                'pm25',\n",
    "                'landuse_class','ambient_temp_c','ambient_rh','airexrate',\n",
    "                'temp_dry','dew_point','temp_wet','rh',\n",
    "                'census_group_block_code','home_lat','home_long']\n",
    "indoor=riopa_indoor[riopa_interest]\n",
    "outdoor=riopa_outdoor[riopa_interest]\n",
    "\n",
    "### Drop landuse_class and location information\n",
    "### in outdoor that contains only 'tbd' or 'nan'\n",
    "outdoor.drop(['landuse_class','census_group_block_code','home_lat','home_long'],axis=1,inplace=True)\n",
    "\n",
    "### Create the column common_id which is the first digit of linkid\n",
    "indoor['common_id']=indoor['linkid'].str[:6]\n",
    "outdoor['common_id']=outdoor['linkid'].str[:6]\n",
    "\n",
    "### Get a subset of indoor containing the common_id, landuse and location information\n",
    "foroutdoor=indoor[['common_id','landuse_class','census_group_block_code','home_lat','home_long']]\n",
    "\n",
    "### Merge the subset to outdoor on common_id\n",
    "outdoor2=pd.merge(outdoor, foroutdoor, on=['common_id'], how='left')\n",
    "\n",
    "outdoor2.isnull().sum()"
   ]
  },
  {
   "cell_type": "markdown",
   "metadata": {},
   "source": [
    "We knew from data wrangling that the blockgroup numbers provided by the RIOPA team were mostly wrong, which explains the high nuber of null value for home_lat and home_lon. Missing land use class can be replaced by 'unknown'. For the indoor dataframe, there are 4 missing values related to outdoor temperature and rh and two missing blockgroup code. These are not important because they are not part of what the indoor data is defined by."
   ]
  },
  {
   "cell_type": "code",
   "execution_count": 10,
   "metadata": {},
   "outputs": [
    {
     "data": {
      "text/plain": [
       "date                        0\n",
       "linkid                      0\n",
       "sampleid                    0\n",
       "homeid                      0\n",
       "airtype                     0\n",
       "pm25                        0\n",
       "landuse_class               0\n",
       "ambient_temp_c              0\n",
       "ambient_rh                  0\n",
       "airexrate                   0\n",
       "temp_dry                    4\n",
       "dew_point                   4\n",
       "temp_wet                    4\n",
       "rh                          4\n",
       "census_group_block_code     2\n",
       "home_lat                   80\n",
       "home_long                  80\n",
       "common_id                   0\n",
       "dtype: int64"
      ]
     },
     "execution_count": 10,
     "metadata": {},
     "output_type": "execute_result"
    }
   ],
   "source": [
    "indoor.isnull().sum()"
   ]
  },
  {
   "cell_type": "code",
   "execution_count": 11,
   "metadata": {},
   "outputs": [
    {
     "data": {
      "text/html": [
       "<div>\n",
       "<style scoped>\n",
       "    .dataframe tbody tr th:only-of-type {\n",
       "        vertical-align: middle;\n",
       "    }\n",
       "\n",
       "    .dataframe tbody tr th {\n",
       "        vertical-align: top;\n",
       "    }\n",
       "\n",
       "    .dataframe thead th {\n",
       "        text-align: right;\n",
       "    }\n",
       "</style>\n",
       "<table border=\"1\" class=\"dataframe\">\n",
       "  <thead>\n",
       "    <tr style=\"text-align: right;\">\n",
       "      <th></th>\n",
       "      <th>date</th>\n",
       "      <th>linkid</th>\n",
       "      <th>sampleid</th>\n",
       "      <th>homeid</th>\n",
       "      <th>airtype</th>\n",
       "      <th>pm25</th>\n",
       "      <th>ambient_temp_c</th>\n",
       "      <th>ambient_rh</th>\n",
       "      <th>airexrate</th>\n",
       "      <th>temp_dry</th>\n",
       "      <th>dew_point</th>\n",
       "      <th>temp_wet</th>\n",
       "      <th>rh</th>\n",
       "      <th>common_id</th>\n",
       "      <th>landuse_class</th>\n",
       "      <th>census_group_block_code</th>\n",
       "      <th>home_lat</th>\n",
       "      <th>home_long</th>\n",
       "    </tr>\n",
       "  </thead>\n",
       "  <tbody>\n",
       "    <tr>\n",
       "      <th>0</th>\n",
       "      <td>2000-10-17</td>\n",
       "      <td>TX103120</td>\n",
       "      <td>10886</td>\n",
       "      <td>EX103</td>\n",
       "      <td>OUTDOOR</td>\n",
       "      <td>17.8</td>\n",
       "      <td>21.4366</td>\n",
       "      <td>0.0000</td>\n",
       "      <td>0</td>\n",
       "      <td>69.277767</td>\n",
       "      <td>60.208333</td>\n",
       "      <td>63.791667</td>\n",
       "      <td>76.263867</td>\n",
       "      <td>TX1031</td>\n",
       "      <td>deciduous forest</td>\n",
       "      <td>4.820125e+11</td>\n",
       "      <td>29.787702</td>\n",
       "      <td>-95.096897</td>\n",
       "    </tr>\n",
       "    <tr>\n",
       "      <th>1</th>\n",
       "      <td>2000-09-26</td>\n",
       "      <td>TX104120</td>\n",
       "      <td>10888</td>\n",
       "      <td>EX104</td>\n",
       "      <td>OUTDOOR</td>\n",
       "      <td>13.4</td>\n",
       "      <td>19.0117</td>\n",
       "      <td>0.0000</td>\n",
       "      <td>0</td>\n",
       "      <td>66.402800</td>\n",
       "      <td>51.402767</td>\n",
       "      <td>57.826400</td>\n",
       "      <td>63.291667</td>\n",
       "      <td>TX1041</td>\n",
       "      <td>high intensity residential</td>\n",
       "      <td>4.820125e+11</td>\n",
       "      <td>NaN</td>\n",
       "      <td>NaN</td>\n",
       "    </tr>\n",
       "    <tr>\n",
       "      <th>2</th>\n",
       "      <td>2000-11-09</td>\n",
       "      <td>TX106120</td>\n",
       "      <td>10964</td>\n",
       "      <td>EX106</td>\n",
       "      <td>OUTDOOR</td>\n",
       "      <td>13.6</td>\n",
       "      <td>28.4035</td>\n",
       "      <td>0.0000</td>\n",
       "      <td>0</td>\n",
       "      <td>51.291700</td>\n",
       "      <td>43.597233</td>\n",
       "      <td>47.534700</td>\n",
       "      <td>78.055533</td>\n",
       "      <td>TX1061</td>\n",
       "      <td>pasture, hay</td>\n",
       "      <td>4.820125e+11</td>\n",
       "      <td>NaN</td>\n",
       "      <td>NaN</td>\n",
       "    </tr>\n",
       "    <tr>\n",
       "      <th>3</th>\n",
       "      <td>2000-12-15</td>\n",
       "      <td>TX104220</td>\n",
       "      <td>10980</td>\n",
       "      <td>EX204</td>\n",
       "      <td>OUTDOOR</td>\n",
       "      <td>3.6</td>\n",
       "      <td>12.1109</td>\n",
       "      <td>66.0289</td>\n",
       "      <td>0</td>\n",
       "      <td>52.046667</td>\n",
       "      <td>36.953333</td>\n",
       "      <td>45.780000</td>\n",
       "      <td>61.353333</td>\n",
       "      <td>TX1042</td>\n",
       "      <td>high intensity residential</td>\n",
       "      <td>4.820125e+11</td>\n",
       "      <td>NaN</td>\n",
       "      <td>NaN</td>\n",
       "    </tr>\n",
       "    <tr>\n",
       "      <th>4</th>\n",
       "      <td>1999-06-23</td>\n",
       "      <td>TX001120</td>\n",
       "      <td>10001</td>\n",
       "      <td>TX001</td>\n",
       "      <td>OUTDOOR</td>\n",
       "      <td>9.3</td>\n",
       "      <td>27.0800</td>\n",
       "      <td>0.0000</td>\n",
       "      <td>0</td>\n",
       "      <td>80.732667</td>\n",
       "      <td>76.141533</td>\n",
       "      <td>77.472800</td>\n",
       "      <td>86.693867</td>\n",
       "      <td>TX0011</td>\n",
       "      <td>low intensity residential</td>\n",
       "      <td>4.820141e+11</td>\n",
       "      <td>29.696430</td>\n",
       "      <td>-95.443767</td>\n",
       "    </tr>\n",
       "  </tbody>\n",
       "</table>\n",
       "</div>"
      ],
      "text/plain": [
       "        date    linkid  sampleid homeid  airtype  pm25  ambient_temp_c  \\\n",
       "0 2000-10-17  TX103120     10886  EX103  OUTDOOR  17.8         21.4366   \n",
       "1 2000-09-26  TX104120     10888  EX104  OUTDOOR  13.4         19.0117   \n",
       "2 2000-11-09  TX106120     10964  EX106  OUTDOOR  13.6         28.4035   \n",
       "3 2000-12-15  TX104220     10980  EX204  OUTDOOR   3.6         12.1109   \n",
       "4 1999-06-23  TX001120     10001  TX001  OUTDOOR   9.3         27.0800   \n",
       "\n",
       "   ambient_rh  airexrate   temp_dry  dew_point   temp_wet         rh  \\\n",
       "0      0.0000          0  69.277767  60.208333  63.791667  76.263867   \n",
       "1      0.0000          0  66.402800  51.402767  57.826400  63.291667   \n",
       "2      0.0000          0  51.291700  43.597233  47.534700  78.055533   \n",
       "3     66.0289          0  52.046667  36.953333  45.780000  61.353333   \n",
       "4      0.0000          0  80.732667  76.141533  77.472800  86.693867   \n",
       "\n",
       "  common_id               landuse_class  census_group_block_code   home_lat  \\\n",
       "0    TX1031            deciduous forest             4.820125e+11  29.787702   \n",
       "1    TX1041  high intensity residential             4.820125e+11        NaN   \n",
       "2    TX1061                pasture, hay             4.820125e+11        NaN   \n",
       "3    TX1042  high intensity residential             4.820125e+11        NaN   \n",
       "4    TX0011   low intensity residential             4.820141e+11  29.696430   \n",
       "\n",
       "   home_long  \n",
       "0 -95.096897  \n",
       "1        NaN  \n",
       "2        NaN  \n",
       "3        NaN  \n",
       "4 -95.443767  "
      ]
     },
     "execution_count": 11,
     "metadata": {},
     "output_type": "execute_result"
    }
   ],
   "source": [
    "outdoor2.head()"
   ]
  },
  {
   "cell_type": "markdown",
   "metadata": {},
   "source": [
    "As shown below, the datasets are small: indoor contains 120 PM 2.5 measurements, which should be the target value; and outdoor2 contains 130 PM 2.5 measurements, which should be one of the predictor value. \n",
    "A quick note on terms, PM25 is a common pollutant. PM stands for \"Particulate Matter\". \"2.5\" is the size of the PM."
   ]
  },
  {
   "cell_type": "code",
   "execution_count": 12,
   "metadata": {},
   "outputs": [
    {
     "data": {
      "text/html": [
       "<div>\n",
       "<style scoped>\n",
       "    .dataframe tbody tr th:only-of-type {\n",
       "        vertical-align: middle;\n",
       "    }\n",
       "\n",
       "    .dataframe tbody tr th {\n",
       "        vertical-align: top;\n",
       "    }\n",
       "\n",
       "    .dataframe thead th {\n",
       "        text-align: right;\n",
       "    }\n",
       "</style>\n",
       "<table border=\"1\" class=\"dataframe\">\n",
       "  <thead>\n",
       "    <tr style=\"text-align: right;\">\n",
       "      <th></th>\n",
       "      <th>count</th>\n",
       "      <th>mean</th>\n",
       "      <th>std</th>\n",
       "      <th>min</th>\n",
       "      <th>25%</th>\n",
       "      <th>50%</th>\n",
       "      <th>75%</th>\n",
       "      <th>max</th>\n",
       "    </tr>\n",
       "  </thead>\n",
       "  <tbody>\n",
       "    <tr>\n",
       "      <th>sampleid</th>\n",
       "      <td>120.0</td>\n",
       "      <td>1.052261e+04</td>\n",
       "      <td>2.985377e+02</td>\n",
       "      <td>1.000200e+04</td>\n",
       "      <td>1.025325e+04</td>\n",
       "      <td>1.054850e+04</td>\n",
       "      <td>1.081450e+04</td>\n",
       "      <td>1.107400e+04</td>\n",
       "    </tr>\n",
       "    <tr>\n",
       "      <th>pm25</th>\n",
       "      <td>120.0</td>\n",
       "      <td>1.681000e+01</td>\n",
       "      <td>1.239439e+01</td>\n",
       "      <td>3.000000e+00</td>\n",
       "      <td>8.850000e+00</td>\n",
       "      <td>1.340000e+01</td>\n",
       "      <td>2.245000e+01</td>\n",
       "      <td>7.890000e+01</td>\n",
       "    </tr>\n",
       "    <tr>\n",
       "      <th>ambient_temp_c</th>\n",
       "      <td>120.0</td>\n",
       "      <td>2.130935e+01</td>\n",
       "      <td>8.423788e+00</td>\n",
       "      <td>0.000000e+00</td>\n",
       "      <td>2.225705e+01</td>\n",
       "      <td>2.390000e+01</td>\n",
       "      <td>2.569658e+01</td>\n",
       "      <td>3.046000e+01</td>\n",
       "    </tr>\n",
       "    <tr>\n",
       "      <th>ambient_rh</th>\n",
       "      <td>120.0</td>\n",
       "      <td>3.217231e+01</td>\n",
       "      <td>2.691021e+01</td>\n",
       "      <td>0.000000e+00</td>\n",
       "      <td>0.000000e+00</td>\n",
       "      <td>4.541915e+01</td>\n",
       "      <td>5.556113e+01</td>\n",
       "      <td>8.024650e+01</td>\n",
       "    </tr>\n",
       "    <tr>\n",
       "      <th>airexrate</th>\n",
       "      <td>120.0</td>\n",
       "      <td>8.771877e-01</td>\n",
       "      <td>1.634181e+00</td>\n",
       "      <td>0.000000e+00</td>\n",
       "      <td>2.293085e-01</td>\n",
       "      <td>4.251540e-01</td>\n",
       "      <td>7.657250e-01</td>\n",
       "      <td>1.334320e+01</td>\n",
       "    </tr>\n",
       "    <tr>\n",
       "      <th>temp_dry</th>\n",
       "      <td>116.0</td>\n",
       "      <td>7.237497e+01</td>\n",
       "      <td>1.056974e+01</td>\n",
       "      <td>4.646530e+01</td>\n",
       "      <td>6.594874e+01</td>\n",
       "      <td>7.348658e+01</td>\n",
       "      <td>8.177164e+01</td>\n",
       "      <td>8.630923e+01</td>\n",
       "    </tr>\n",
       "    <tr>\n",
       "      <th>dew_point</th>\n",
       "      <td>116.0</td>\n",
       "      <td>6.289407e+01</td>\n",
       "      <td>1.149305e+01</td>\n",
       "      <td>2.623377e+01</td>\n",
       "      <td>5.801596e+01</td>\n",
       "      <td>6.622958e+01</td>\n",
       "      <td>7.246899e+01</td>\n",
       "      <td>7.614153e+01</td>\n",
       "    </tr>\n",
       "    <tr>\n",
       "      <th>temp_wet</th>\n",
       "      <td>116.0</td>\n",
       "      <td>6.654903e+01</td>\n",
       "      <td>1.003015e+01</td>\n",
       "      <td>3.827643e+01</td>\n",
       "      <td>6.139140e+01</td>\n",
       "      <td>6.859822e+01</td>\n",
       "      <td>7.494595e+01</td>\n",
       "      <td>7.806727e+01</td>\n",
       "    </tr>\n",
       "    <tr>\n",
       "      <th>rh</th>\n",
       "      <td>116.0</td>\n",
       "      <td>7.523376e+01</td>\n",
       "      <td>9.310597e+00</td>\n",
       "      <td>4.825850e+01</td>\n",
       "      <td>6.828262e+01</td>\n",
       "      <td>7.675163e+01</td>\n",
       "      <td>8.290520e+01</td>\n",
       "      <td>9.116327e+01</td>\n",
       "    </tr>\n",
       "    <tr>\n",
       "      <th>census_group_block_code</th>\n",
       "      <td>118.0</td>\n",
       "      <td>4.819578e+11</td>\n",
       "      <td>2.620982e+08</td>\n",
       "      <td>4.807171e+11</td>\n",
       "      <td>4.820125e+11</td>\n",
       "      <td>4.820125e+11</td>\n",
       "      <td>4.820125e+11</td>\n",
       "      <td>4.820141e+11</td>\n",
       "    </tr>\n",
       "    <tr>\n",
       "      <th>home_lat</th>\n",
       "      <td>40.0</td>\n",
       "      <td>2.978110e+01</td>\n",
       "      <td>2.111324e-02</td>\n",
       "      <td>2.969643e+01</td>\n",
       "      <td>2.978770e+01</td>\n",
       "      <td>2.978770e+01</td>\n",
       "      <td>2.978770e+01</td>\n",
       "      <td>2.978980e+01</td>\n",
       "    </tr>\n",
       "    <tr>\n",
       "      <th>home_long</th>\n",
       "      <td>40.0</td>\n",
       "      <td>-9.511843e+01</td>\n",
       "      <td>7.870529e-02</td>\n",
       "      <td>-9.544377e+01</td>\n",
       "      <td>-9.509690e+01</td>\n",
       "      <td>-9.509690e+01</td>\n",
       "      <td>-9.509690e+01</td>\n",
       "      <td>-9.506787e+01</td>\n",
       "    </tr>\n",
       "  </tbody>\n",
       "</table>\n",
       "</div>"
      ],
      "text/plain": [
       "                         count          mean           std           min  \\\n",
       "sampleid                 120.0  1.052261e+04  2.985377e+02  1.000200e+04   \n",
       "pm25                     120.0  1.681000e+01  1.239439e+01  3.000000e+00   \n",
       "ambient_temp_c           120.0  2.130935e+01  8.423788e+00  0.000000e+00   \n",
       "ambient_rh               120.0  3.217231e+01  2.691021e+01  0.000000e+00   \n",
       "airexrate                120.0  8.771877e-01  1.634181e+00  0.000000e+00   \n",
       "temp_dry                 116.0  7.237497e+01  1.056974e+01  4.646530e+01   \n",
       "dew_point                116.0  6.289407e+01  1.149305e+01  2.623377e+01   \n",
       "temp_wet                 116.0  6.654903e+01  1.003015e+01  3.827643e+01   \n",
       "rh                       116.0  7.523376e+01  9.310597e+00  4.825850e+01   \n",
       "census_group_block_code  118.0  4.819578e+11  2.620982e+08  4.807171e+11   \n",
       "home_lat                  40.0  2.978110e+01  2.111324e-02  2.969643e+01   \n",
       "home_long                 40.0 -9.511843e+01  7.870529e-02 -9.544377e+01   \n",
       "\n",
       "                                  25%           50%           75%  \\\n",
       "sampleid                 1.025325e+04  1.054850e+04  1.081450e+04   \n",
       "pm25                     8.850000e+00  1.340000e+01  2.245000e+01   \n",
       "ambient_temp_c           2.225705e+01  2.390000e+01  2.569658e+01   \n",
       "ambient_rh               0.000000e+00  4.541915e+01  5.556113e+01   \n",
       "airexrate                2.293085e-01  4.251540e-01  7.657250e-01   \n",
       "temp_dry                 6.594874e+01  7.348658e+01  8.177164e+01   \n",
       "dew_point                5.801596e+01  6.622958e+01  7.246899e+01   \n",
       "temp_wet                 6.139140e+01  6.859822e+01  7.494595e+01   \n",
       "rh                       6.828262e+01  7.675163e+01  8.290520e+01   \n",
       "census_group_block_code  4.820125e+11  4.820125e+11  4.820125e+11   \n",
       "home_lat                 2.978770e+01  2.978770e+01  2.978770e+01   \n",
       "home_long               -9.509690e+01 -9.509690e+01 -9.509690e+01   \n",
       "\n",
       "                                  max  \n",
       "sampleid                 1.107400e+04  \n",
       "pm25                     7.890000e+01  \n",
       "ambient_temp_c           3.046000e+01  \n",
       "ambient_rh               8.024650e+01  \n",
       "airexrate                1.334320e+01  \n",
       "temp_dry                 8.630923e+01  \n",
       "dew_point                7.614153e+01  \n",
       "temp_wet                 7.806727e+01  \n",
       "rh                       9.116327e+01  \n",
       "census_group_block_code  4.820141e+11  \n",
       "home_lat                 2.978980e+01  \n",
       "home_long               -9.506787e+01  "
      ]
     },
     "execution_count": 12,
     "metadata": {},
     "output_type": "execute_result"
    }
   ],
   "source": [
    "indoor.describe().T"
   ]
  },
  {
   "cell_type": "code",
   "execution_count": 13,
   "metadata": {},
   "outputs": [
    {
     "data": {
      "text/html": [
       "<div>\n",
       "<style scoped>\n",
       "    .dataframe tbody tr th:only-of-type {\n",
       "        vertical-align: middle;\n",
       "    }\n",
       "\n",
       "    .dataframe tbody tr th {\n",
       "        vertical-align: top;\n",
       "    }\n",
       "\n",
       "    .dataframe thead th {\n",
       "        text-align: right;\n",
       "    }\n",
       "</style>\n",
       "<table border=\"1\" class=\"dataframe\">\n",
       "  <thead>\n",
       "    <tr style=\"text-align: right;\">\n",
       "      <th></th>\n",
       "      <th>count</th>\n",
       "      <th>mean</th>\n",
       "      <th>std</th>\n",
       "      <th>min</th>\n",
       "      <th>25%</th>\n",
       "      <th>50%</th>\n",
       "      <th>75%</th>\n",
       "      <th>max</th>\n",
       "    </tr>\n",
       "  </thead>\n",
       "  <tbody>\n",
       "    <tr>\n",
       "      <th>sampleid</th>\n",
       "      <td>130.0</td>\n",
       "      <td>1.052085e+04</td>\n",
       "      <td>2.889030e+02</td>\n",
       "      <td>1.000000e+04</td>\n",
       "      <td>1.027325e+04</td>\n",
       "      <td>1.055350e+04</td>\n",
       "      <td>1.077275e+04</td>\n",
       "      <td>1.099000e+04</td>\n",
       "    </tr>\n",
       "    <tr>\n",
       "      <th>pm25</th>\n",
       "      <td>130.0</td>\n",
       "      <td>1.461308e+01</td>\n",
       "      <td>5.613127e+00</td>\n",
       "      <td>3.600000e+00</td>\n",
       "      <td>1.070000e+01</td>\n",
       "      <td>1.315000e+01</td>\n",
       "      <td>1.757500e+01</td>\n",
       "      <td>3.400000e+01</td>\n",
       "    </tr>\n",
       "    <tr>\n",
       "      <th>ambient_temp_c</th>\n",
       "      <td>130.0</td>\n",
       "      <td>2.300133e+01</td>\n",
       "      <td>6.506294e+00</td>\n",
       "      <td>0.000000e+00</td>\n",
       "      <td>1.942647e+01</td>\n",
       "      <td>2.414975e+01</td>\n",
       "      <td>2.864270e+01</td>\n",
       "      <td>3.246880e+01</td>\n",
       "    </tr>\n",
       "    <tr>\n",
       "      <th>ambient_rh</th>\n",
       "      <td>130.0</td>\n",
       "      <td>4.583456e+01</td>\n",
       "      <td>3.846027e+01</td>\n",
       "      <td>0.000000e+00</td>\n",
       "      <td>0.000000e+00</td>\n",
       "      <td>6.367720e+01</td>\n",
       "      <td>8.087453e+01</td>\n",
       "      <td>1.039110e+02</td>\n",
       "    </tr>\n",
       "    <tr>\n",
       "      <th>airexrate</th>\n",
       "      <td>130.0</td>\n",
       "      <td>0.000000e+00</td>\n",
       "      <td>0.000000e+00</td>\n",
       "      <td>0.000000e+00</td>\n",
       "      <td>0.000000e+00</td>\n",
       "      <td>0.000000e+00</td>\n",
       "      <td>0.000000e+00</td>\n",
       "      <td>0.000000e+00</td>\n",
       "    </tr>\n",
       "    <tr>\n",
       "      <th>temp_dry</th>\n",
       "      <td>129.0</td>\n",
       "      <td>7.299080e+01</td>\n",
       "      <td>1.075929e+01</td>\n",
       "      <td>4.639717e+01</td>\n",
       "      <td>6.622980e+01</td>\n",
       "      <td>7.416480e+01</td>\n",
       "      <td>8.236110e+01</td>\n",
       "      <td>8.879447e+01</td>\n",
       "    </tr>\n",
       "    <tr>\n",
       "      <th>dew_point</th>\n",
       "      <td>129.0</td>\n",
       "      <td>6.321445e+01</td>\n",
       "      <td>1.159387e+01</td>\n",
       "      <td>2.645357e+01</td>\n",
       "      <td>5.869927e+01</td>\n",
       "      <td>6.683447e+01</td>\n",
       "      <td>7.230230e+01</td>\n",
       "      <td>7.614153e+01</td>\n",
       "    </tr>\n",
       "    <tr>\n",
       "      <th>temp_wet</th>\n",
       "      <td>129.0</td>\n",
       "      <td>6.694727e+01</td>\n",
       "      <td>1.011543e+01</td>\n",
       "      <td>3.841800e+01</td>\n",
       "      <td>6.231670e+01</td>\n",
       "      <td>6.959467e+01</td>\n",
       "      <td>7.522470e+01</td>\n",
       "      <td>7.808180e+01</td>\n",
       "    </tr>\n",
       "    <tr>\n",
       "      <th>rh</th>\n",
       "      <td>129.0</td>\n",
       "      <td>7.461600e+01</td>\n",
       "      <td>9.267294e+00</td>\n",
       "      <td>4.778780e+01</td>\n",
       "      <td>6.802127e+01</td>\n",
       "      <td>7.645703e+01</td>\n",
       "      <td>8.232290e+01</td>\n",
       "      <td>9.116327e+01</td>\n",
       "    </tr>\n",
       "    <tr>\n",
       "      <th>census_group_block_code</th>\n",
       "      <td>118.0</td>\n",
       "      <td>4.819358e+11</td>\n",
       "      <td>3.073614e+08</td>\n",
       "      <td>4.807171e+11</td>\n",
       "      <td>4.820125e+11</td>\n",
       "      <td>4.820125e+11</td>\n",
       "      <td>4.820125e+11</td>\n",
       "      <td>4.820141e+11</td>\n",
       "    </tr>\n",
       "    <tr>\n",
       "      <th>home_lat</th>\n",
       "      <td>37.0</td>\n",
       "      <td>2.978056e+01</td>\n",
       "      <td>2.188572e-02</td>\n",
       "      <td>2.969643e+01</td>\n",
       "      <td>2.978770e+01</td>\n",
       "      <td>2.978770e+01</td>\n",
       "      <td>2.978770e+01</td>\n",
       "      <td>2.978980e+01</td>\n",
       "    </tr>\n",
       "    <tr>\n",
       "      <th>home_long</th>\n",
       "      <td>37.0</td>\n",
       "      <td>-9.512017e+01</td>\n",
       "      <td>8.166382e-02</td>\n",
       "      <td>-9.544377e+01</td>\n",
       "      <td>-9.509690e+01</td>\n",
       "      <td>-9.509690e+01</td>\n",
       "      <td>-9.509690e+01</td>\n",
       "      <td>-9.506787e+01</td>\n",
       "    </tr>\n",
       "  </tbody>\n",
       "</table>\n",
       "</div>"
      ],
      "text/plain": [
       "                         count          mean           std           min  \\\n",
       "sampleid                 130.0  1.052085e+04  2.889030e+02  1.000000e+04   \n",
       "pm25                     130.0  1.461308e+01  5.613127e+00  3.600000e+00   \n",
       "ambient_temp_c           130.0  2.300133e+01  6.506294e+00  0.000000e+00   \n",
       "ambient_rh               130.0  4.583456e+01  3.846027e+01  0.000000e+00   \n",
       "airexrate                130.0  0.000000e+00  0.000000e+00  0.000000e+00   \n",
       "temp_dry                 129.0  7.299080e+01  1.075929e+01  4.639717e+01   \n",
       "dew_point                129.0  6.321445e+01  1.159387e+01  2.645357e+01   \n",
       "temp_wet                 129.0  6.694727e+01  1.011543e+01  3.841800e+01   \n",
       "rh                       129.0  7.461600e+01  9.267294e+00  4.778780e+01   \n",
       "census_group_block_code  118.0  4.819358e+11  3.073614e+08  4.807171e+11   \n",
       "home_lat                  37.0  2.978056e+01  2.188572e-02  2.969643e+01   \n",
       "home_long                 37.0 -9.512017e+01  8.166382e-02 -9.544377e+01   \n",
       "\n",
       "                                  25%           50%           75%  \\\n",
       "sampleid                 1.027325e+04  1.055350e+04  1.077275e+04   \n",
       "pm25                     1.070000e+01  1.315000e+01  1.757500e+01   \n",
       "ambient_temp_c           1.942647e+01  2.414975e+01  2.864270e+01   \n",
       "ambient_rh               0.000000e+00  6.367720e+01  8.087453e+01   \n",
       "airexrate                0.000000e+00  0.000000e+00  0.000000e+00   \n",
       "temp_dry                 6.622980e+01  7.416480e+01  8.236110e+01   \n",
       "dew_point                5.869927e+01  6.683447e+01  7.230230e+01   \n",
       "temp_wet                 6.231670e+01  6.959467e+01  7.522470e+01   \n",
       "rh                       6.802127e+01  7.645703e+01  8.232290e+01   \n",
       "census_group_block_code  4.820125e+11  4.820125e+11  4.820125e+11   \n",
       "home_lat                 2.978770e+01  2.978770e+01  2.978770e+01   \n",
       "home_long               -9.509690e+01 -9.509690e+01 -9.509690e+01   \n",
       "\n",
       "                                  max  \n",
       "sampleid                 1.099000e+04  \n",
       "pm25                     3.400000e+01  \n",
       "ambient_temp_c           3.246880e+01  \n",
       "ambient_rh               1.039110e+02  \n",
       "airexrate                0.000000e+00  \n",
       "temp_dry                 8.879447e+01  \n",
       "dew_point                7.614153e+01  \n",
       "temp_wet                 7.808180e+01  \n",
       "rh                       9.116327e+01  \n",
       "census_group_block_code  4.820141e+11  \n",
       "home_lat                 2.978980e+01  \n",
       "home_long               -9.506787e+01  "
      ]
     },
     "execution_count": 13,
     "metadata": {},
     "output_type": "execute_result"
    }
   ],
   "source": [
    "outdoor2.describe().T"
   ]
  },
  {
   "cell_type": "code",
   "execution_count": 14,
   "metadata": {},
   "outputs": [
    {
     "data": {
      "image/png": "[encoded data removed]",
      "text/plain": [
       "<Figure size 864x360 with 2 Axes>"
      ]
     },
     "metadata": {
      "needs_background": "light"
     },
     "output_type": "display_data"
    }
   ],
   "source": [
    "### Plot pm25 distribution indoor and outdoor\n",
    "fig, (ind, out) = plt.subplots(1, 2, sharey=True, figsize=(12, 5), frameon=True)\n",
    "fig.suptitle('Distribution of PM 2.5 (ug/m3)', fontsize=21, color='firebrick')\n",
    "fig.subplots_adjust(top=0.8)\n",
    "\n",
    "ind.hist(data=indoor, x='pm25', bins=10, alpha=0.5, facecolor='crimson', \n",
    "         linewidth=1, histtype='bar', ec='crimson')\n",
    "ind.set_title('Indoor Data', fontsize=16)\n",
    "ind.set(xlabel='PM 2.5 (ug/m3)', ylabel='Frequency')\n",
    "ind.xaxis.get_label().set_fontsize(15)\n",
    "ind.yaxis.get_label().set_fontsize(15)\n",
    "ind.set_facecolor('mistyrose')\n",
    "ind.grid(True)\n",
    "\n",
    "out.hist(data=outdoor2, x='pm25', bins=10, alpha=0.5, facecolor='green', \n",
    "         linewidth=1, histtype='bar', ec='green')\n",
    "out.set_title('Outdoor Data', fontsize=16)\n",
    "out.set(xlabel='PM 2.5 (ug/m3)')\n",
    "out.xaxis.get_label().set_fontsize(14)\n",
    "out.set_facecolor('mistyrose')\n",
    "out.grid(True)\n",
    "\n",
    "plt.show()"
   ]
  },
  {
   "cell_type": "markdown",
   "metadata": {},
   "source": [
    "The overall distribution of PM 2.5 is right-skewed for both indoor and outdoor datasets. Let's use a log on these."
   ]
  },
  {
   "cell_type": "code",
   "execution_count": 15,
   "metadata": {},
   "outputs": [
    {
     "data": {
      "image/png": "[encoded data removed]",
      "text/plain": [
       "<Figure size 864x360 with 2 Axes>"
      ]
     },
     "metadata": {
      "needs_background": "light"
     },
     "output_type": "display_data"
    }
   ],
   "source": [
    "### Apply log transform on the column pm25\n",
    "outdoor2['pm25_log']=np.log(outdoor2.pm25)\n",
    "indoor['pm25_log']=np.log(indoor.pm25)\n",
    "\n",
    "### Plot log(pm25) distribution indoor and outdoor\n",
    "fig, (log_ind, log_out) = plt.subplots(1, 2, sharey=True, figsize=(12, 5), frameon=True)\n",
    "fig.suptitle('Distribution of PM 2.5 after Log Transform', fontsize=21, color='firebrick')\n",
    "fig.subplots_adjust(top=0.8)\n",
    "\n",
    "log_ind.hist(data=indoor, x='pm25_log', bins=10, range=[1,4.5], alpha=0.5, facecolor='crimson', \n",
    "         linewidth=1, histtype='bar', ec='crimson')\n",
    "log_ind.set_title('Indoor Data', fontsize=16)\n",
    "log_ind.set(xlabel='Log PM 2.5', ylabel='Frequency')\n",
    "log_ind.xaxis.get_label().set_fontsize(15)\n",
    "log_ind.yaxis.get_label().set_fontsize(15)\n",
    "log_ind.set_facecolor('mistyrose')\n",
    "log_ind.grid(True)\n",
    "\n",
    "log_out.hist(data=outdoor2, x='pm25_log', bins=10, range=[1,4.55], alpha=0.5, facecolor='green', \n",
    "         linewidth=1, histtype='bar', ec='green')\n",
    "log_out.set_title('Outdoor Data', fontsize=16)\n",
    "log_out.set(xlabel='Log PM 2.5')\n",
    "log_out.xaxis.get_label().set_fontsize(14)\n",
    "log_out.set_facecolor('mistyrose')\n",
    "log_out.grid(True)\n",
    "\n",
    "plt.show()"
   ]
  },
  {
   "cell_type": "markdown",
   "metadata": {},
   "source": [
    "After log transformation both PM 2.5 distributions do look normal enough.The function 'stats.normaltest' is a scipy function which tests the null hypothesis that a sample comes from a normal distribution (p>0.001). The results of normaltest (below) confirm the log distributions are normal."
   ]
  },
  {
   "cell_type": "code",
   "execution_count": 16,
   "metadata": {},
   "outputs": [
    {
     "name": "stdout",
     "output_type": "stream",
     "text": [
      "Normal test results indoor: s2+k2= 63.58730963685212  and p= 1.5566506338264703e-14\n",
      "Normal test results outdoor: s2+k2= 22.29970378229126  and p= 1.4377416355008872e-05\n",
      "Normal test results indoor: s2+k2= 1.3750304217882976  and p= 0.5028239295112038\n",
      "Normal test results outdoor: s2+k2= 2.5825690383427276  and p= 0.2749174194913027\n"
     ]
    }
   ],
   "source": [
    "stat_ind, p_ind= sst.normaltest(indoor.pm25)\n",
    "stat_out, p_out= sst.normaltest(outdoor2.pm25)\n",
    "stat_indlog, p_indlog= sst.normaltest(indoor.pm25_log)\n",
    "stat_outlog, p_outlog= sst.normaltest(outdoor2.pm25_log)\n",
    "print('Normal test results indoor: s2+k2=', stat_ind,' and p=', p_ind)\n",
    "print('Normal test results outdoor: s2+k2=', stat_out, ' and p=', p_out)\n",
    "print('Normal test results indoor: s2+k2=', stat_indlog,' and p=', p_indlog)\n",
    "print('Normal test results outdoor: s2+k2=', stat_outlog, ' and p=', p_outlog)"
   ]
  },
  {
   "cell_type": "markdown",
   "metadata": {},
   "source": [
    "Outliers within the PM 2.5 or other pollutant concentrations are important data because they represent crisis events where concentrations go beyong healthy limits and therefore should be identified and counted. Boxplots are a good way to show outliers, median and mean."
   ]
  },
  {
   "cell_type": "code",
   "execution_count": 17,
   "metadata": {},
   "outputs": [
    {
     "data": {
      "image/png": "[encoded data removed]",
      "text/plain": [
       "<Figure size 864x360 with 2 Axes>"
      ]
     },
     "metadata": {
      "needs_background": "light"
     },
     "output_type": "display_data"
    }
   ],
   "source": [
    "fig, (boxind, boxout)= plt.subplots(1, 2, figsize=(12, 5), frameon=True)\n",
    "fig.suptitle('PM 2.5 Outliers (circles), Median (yellow line) and Mean (blue line)', size=21, color='firebrick')\n",
    "fig.subplots_adjust(top=0.8)\n",
    "### plt.boxplot(data,sym='',widths=0.75, patch_artist=True)\n",
    "\n",
    "medianprops1 = dict(linestyle='-', linewidth=2.5, color='gold')\n",
    "meanlineprops1 = dict(linestyle='-', linewidth=2.5, color='royalblue')\n",
    "\n",
    "boxind.set_title('PM 2.5')\n",
    "boxind.boxplot(indoor.pm25,\n",
    "               boxprops=dict(linestyle='-', linewidth=2.5, facecolor='crimson',color='crimson', alpha=0.5),\n",
    "               flierprops=dict(marker='o', markersize=8, linestyle='none', markeredgecolor='crimson', markeredgewidth=2.5),\n",
    "               medianprops=medianprops1, meanprops=meanlineprops1, showmeans=True, meanline=True,\n",
    "               patch_artist=True, notch=True,\n",
    "               whiskerprops=dict(color='crimson', linewidth=2.5),\n",
    "               capprops=dict(color='crimson', linewidth=2.5))\n",
    "boxind.set(xlabel='Indoor', ylabel='Concentration (ug/m3)')\n",
    "boxind.xaxis.get_label().set_fontsize(15)\n",
    "boxind.yaxis.get_label().set_fontsize(15)\n",
    "boxind.set_facecolor('mistyrose')\n",
    "boxind.grid(True)\n",
    "\n",
    "boxout.boxplot(outdoor2.pm25,\n",
    "               boxprops=dict(linestyle='-', linewidth=2.5, facecolor='green',color='green', alpha=0.6),\n",
    "               flierprops=dict(marker='o', markersize=8, linestyle='none', markeredgecolor='green', markeredgewidth=2.5),\n",
    "               medianprops=medianprops1, meanprops=meanlineprops1, showmeans=True, meanline=True,\n",
    "               patch_artist=True, notch=True,\n",
    "               whiskerprops=dict(color='green', linewidth=2.5),\n",
    "               capprops=dict(color='green',linewidth=2.5))\n",
    "boxout.set(xlabel='PM 2.5', ylabel='Concentration (ug/m3)')\n",
    "boxout.set_title('PM 2.5')\n",
    "boxout.set(xlabel='Outdoor')\n",
    "boxout.xaxis.get_label().set_fontsize(15)\n",
    "boxout.yaxis.get_label().set_fontsize(15)\n",
    "boxout.set_facecolor('mistyrose')\n",
    "boxout.grid(True)\n",
    "\n",
    "plt.show()"
   ]
  },
  {
   "cell_type": "markdown",
   "metadata": {},
   "source": [
    "While the mean and median values of indoor (16.8 ug/m3, 13.4 ug/m3) and outdoor (14.6 ug/m3, 13.2 ug/m3) PM 2.5 concentrations are close, the indoor concentrations spread towards higher values (i.e. the end of 4th quartile at 42 ug/m3 with outliers up to 80 ug/m3) than the outdoor concentrations (i.e. remain below 35 ug/m3).\n",
    "\n",
    "Going back to the Data Wrangling Notebook, I checked remarks and other measurement found in the original file PM_Mass.xlsx. The reasons behind the outliers are:\n",
    "\n",
    "- The extreme indoor value at 78.9 ug/m3 is not associated with an outdoor value because the electricity went off as stated in the PM_Mass.xlsx (\"the Harvard outdoor final flow not taken because electricity went off\"). I choose to drop it from the indoor dataframe.\n",
    "- The extreme indoor value at 58.2 ug/m3 has been measured from 04/10/2000 to 04/12/2000 in homeid TX047. Another measurement was taken from 04/12/2000 to 04/14/2000 which showed a value of 8 ug/m3 which is closer to the outdoor value of 6 ug/m3 measured during the same time period. I choose to drop the value 58.2.\n",
    "- There is no reason to drop the extreme indoor value of 58.2 ug/m3 in homeid TX007. The associated outdoor value is 26 ug/m3. There was likely an indoor source of PM 2.5.\n",
    "- Indoor outliers in the 40s are fine."
   ]
  },
  {
   "cell_type": "code",
   "execution_count": 18,
   "metadata": {},
   "outputs": [
    {
     "data": {
      "text/plain": [
       "(117, 19)"
      ]
     },
     "execution_count": 18,
     "metadata": {},
     "output_type": "execute_result"
    }
   ],
   "source": [
    "### removing selected outliers\n",
    "cond1=indoor.pm25 != 78.9\n",
    "cond2=indoor.pm25 != 58.2\n",
    "indoor2=indoor[cond1 & cond2]\n",
    "indoor2.shape"
   ]
  },
  {
   "cell_type": "code",
   "execution_count": 19,
   "metadata": {},
   "outputs": [
    {
     "data": {
      "image/png": "[encoded data removed]",
      "text/plain": [
       "<Figure size 864x360 with 2 Axes>"
      ]
     },
     "metadata": {
      "needs_background": "light"
     },
     "output_type": "display_data"
    }
   ],
   "source": [
    "fig, (boxind2, boxout2)= plt.subplots(1, 2, figsize=(12, 5), sharey=True, frameon=True)\n",
    "fig.suptitle('PM 2.5 Outliers After Removal of Extreme Indoor Values', size=21, color='firebrick')\n",
    "fig.subplots_adjust(top=0.8)\n",
    "### plt.boxplot(data,sym='',widths=0.75, patch_artist=True)\n",
    "\n",
    "medianprops1 = dict(linestyle='-', linewidth=2.5, color='gold')\n",
    "meanlineprops1 = dict(linestyle='-', linewidth=2.5, color='royalblue')\n",
    "\n",
    "boxind2.set_title('PM 2.5')\n",
    "boxind2.boxplot(indoor2.pm25,\n",
    "               boxprops=dict(linestyle='-', linewidth=2.5, facecolor='crimson',color='crimson', alpha=0.5),\n",
    "               flierprops=dict(marker='o', markersize=8, linestyle='none', markeredgecolor='crimson', markeredgewidth=2.5),\n",
    "               medianprops=medianprops1, meanprops=meanlineprops1, showmeans=True, meanline=True,\n",
    "               patch_artist=True, notch=True,\n",
    "               whiskerprops=dict(color='crimson', linewidth=2.5),\n",
    "               capprops=dict(color='crimson', linewidth=2.5))\n",
    "boxind2.set(xlabel='Indoor', ylabel='Concentration (ug/m3)')\n",
    "boxind2.xaxis.get_label().set_fontsize(15)\n",
    "boxind2.yaxis.get_label().set_fontsize(15)\n",
    "boxind2.set_facecolor('mistyrose')\n",
    "boxind2.grid(True)\n",
    "\n",
    "boxout2.boxplot(outdoor2.pm25,\n",
    "               boxprops=dict(linestyle='-', linewidth=2.5, facecolor='green',color='green', alpha=0.6),\n",
    "               flierprops=dict(marker='o', markersize=8, linestyle='none', markeredgecolor='green', markeredgewidth=2.5),\n",
    "               medianprops=medianprops1, meanprops=meanlineprops1, showmeans=True, meanline=True,\n",
    "               patch_artist=True, notch=True,\n",
    "               whiskerprops=dict(color='green', linewidth=2.5),\n",
    "               capprops=dict(color='green',linewidth=2.5))\n",
    "boxout2.set(xlabel='PM 2.5')\n",
    "boxout2.set_title('PM 2.5')\n",
    "boxout2.set(xlabel='Outdoor')\n",
    "boxout2.xaxis.get_label().set_fontsize(15)\n",
    "boxout2.yaxis.get_label().set_fontsize(15)\n",
    "boxout2.set_facecolor('mistyrose')\n",
    "boxout2.grid(True)\n",
    "\n",
    "plt.show()"
   ]
  },
  {
   "cell_type": "markdown",
   "metadata": {},
   "source": [
    "Let's rename column in indoor2 and outdoor2 to prepare for a merge\n",
    "\n",
    "Then we will have a quick look at outliers in the other columns by plotting other bocxplots. Replace zero of ambient temperature C and rh by the mean\n",
    "and with dataframe.hist\n",
    "and heat map"
   ]
  },
  {
   "cell_type": "code",
   "execution_count": 20,
   "metadata": {},
   "outputs": [
    {
     "data": {
      "text/plain": [
       "Index(['date', 'linkid', 'sampleid', 'homeid', 'airtype', 'pm25',\n",
       "       'landuse_class', 'ambient_temp_c', 'ambient_rh', 'airexrate',\n",
       "       'temp_dry', 'dew_point', 'temp_wet', 'rh', 'census_group_block_code',\n",
       "       'home_lat', 'home_long', 'common_id', 'pm25_log'],\n",
       "      dtype='object')"
      ]
     },
     "execution_count": 20,
     "metadata": {},
     "output_type": "execute_result"
    }
   ],
   "source": [
    "indoor2.columns"
   ]
  },
  {
   "cell_type": "code",
   "execution_count": 21,
   "metadata": {},
   "outputs": [
    {
     "data": {
      "text/plain": [
       "Index(['date', 'linkid', 'sampleid', 'homeid', 'airtype', 'pm25',\n",
       "       'ambient_temp_c', 'ambient_rh', 'airexrate', 'temp_dry', 'dew_point',\n",
       "       'temp_wet', 'rh', 'common_id', 'landuse_class',\n",
       "       'census_group_block_code', 'home_lat', 'home_long', 'pm25_log'],\n",
       "      dtype='object')"
      ]
     },
     "execution_count": 21,
     "metadata": {},
     "output_type": "execute_result"
    }
   ],
   "source": [
    "outdoor2.columns"
   ]
  },
  {
   "cell_type": "code",
   "execution_count": 22,
   "metadata": {},
   "outputs": [
    {
     "data": {
      "image/png": "[encoded data removed]",
      "text/plain": [
       "<Figure size 720x720 with 16 Axes>"
      ]
     },
     "metadata": {
      "needs_background": "light"
     },
     "output_type": "display_data"
    }
   ],
   "source": [
    "in2=indoor2.hist(bins=10, figsize=(10,10))"
   ]
  },
  {
   "cell_type": "code",
   "execution_count": 23,
   "metadata": {},
   "outputs": [
    {
     "data": {
      "image/png": "[encoded data removed]",
      "text/plain": [
       "<Figure size 720x720 with 16 Axes>"
      ]
     },
     "metadata": {
      "needs_background": "light"
     },
     "output_type": "display_data"
    }
   ],
   "source": [
    "ou2=outdoor2.hist(bins=10, figsize=(10,10))"
   ]
  },
  {
   "cell_type": "code",
   "execution_count": 24,
   "metadata": {},
   "outputs": [
    {
     "data": {
      "image/png": "[encoded data removed]",
      "text/plain": [
       "<Figure size 864x360 with 2 Axes>"
      ]
     },
     "metadata": {
      "needs_background": "light"
     },
     "output_type": "display_data"
    }
   ],
   "source": [
    "fig, (pl1, pl3)= plt.subplots(1, 2, sharex=True, figsize=(12, 5), frameon=True)\n",
    "fig.suptitle('Overview Through Time PM 2.5 Indoor (red) and Outdoor (green)', size=21, color='firebrick')\n",
    "fig.subplots_adjust(top=0.8)\n",
    "\n",
    "#flierprops = dict(marker='o', markerfacecolor='dodgerblue', markersize=8,linestyle='none', markeredgecolor='darkblue')\n",
    "pl1.set_title('PM 2.5')\n",
    "pl1.scatter(indoor2.date,indoor2.pm25, color='crimson', alpha=0.75)\n",
    "pl1.scatter(outdoor2.date,outdoor2.pm25, color='green', alpha=0.75)\n",
    "pl1.set(xlabel='Date', ylabel='PM 2.5 (ug/m3)')\n",
    "pl1.xaxis.get_label().set_fontsize(15)\n",
    "pl1.yaxis.get_label().set_fontsize(15)\n",
    "plt.setp(pl1.get_xticklabels(), rotation=45)\n",
    "pl1.set_facecolor('mistyrose')\n",
    "pl1.grid(True)\n",
    "\n",
    "pl3.set_title('Log PM 2.5')\n",
    "pl3.scatter(indoor2.date,indoor2.pm25_log, color='crimson', alpha=0.75)\n",
    "pl3.scatter(outdoor2.date,outdoor2.pm25_log, color='green', alpha=0.75)\n",
    "pl3.set(xlabel='Date', ylabel='Log PM 2.5')\n",
    "pl3.xaxis.get_label().set_fontsize(15)\n",
    "plt.setp(pl3.get_xticklabels(), rotation=45)\n",
    "pl3.yaxis.get_label().set_fontsize(15)\n",
    "pl3.set_facecolor('mistyrose')\n",
    "pl3.grid(True)"
   ]
  },
  {
   "cell_type": "markdown",
   "metadata": {},
   "source": []
  },
  {
   "cell_type": "code",
   "execution_count": null,
   "metadata": {},
   "outputs": [],
   "source": []
  },
  {
   "cell_type": "code",
   "execution_count": null,
   "metadata": {},
   "outputs": [],
   "source": []
  },
  {
   "cell_type": "code",
   "execution_count": null,
   "metadata": {},
   "outputs": [],
   "source": []
  },
  {
   "cell_type": "code",
   "execution_count": null,
   "metadata": {},
   "outputs": [],
   "source": []
  },
  {
   "cell_type": "code",
   "execution_count": null,
   "metadata": {},
   "outputs": [],
   "source": []
  },
  {
   "cell_type": "code",
   "execution_count": null,
   "metadata": {},
   "outputs": [],
   "source": []
  },
  {
   "cell_type": "code",
   "execution_count": null,
   "metadata": {},
   "outputs": [],
   "source": [
    "\n"
   ]
  }
 ],
 "metadata": {
  "kernelspec": {
   "display_name": "Python 3",
   "language": "python",
   "name": "python3"
  },
  "language_info": {
   "codemirror_mode": {
    "name": "ipython",
    "version": 3
   },
   "file_extension": ".py",
   "mimetype": "text/x-python",
   "name": "python",
   "nbconvert_exporter": "python",
   "pygments_lexer": "ipython3",
   "version": "3.7.9"
  }
 },
 "nbformat": 4,
 "nbformat_minor": 4
}
