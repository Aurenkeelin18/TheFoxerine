{
 "cells": [
  {
   "cell_type": "markdown",
   "metadata": {},
   "source": [
    "# Frequentist Inference Case Study - Part B"
   ]
  },
  {
   "cell_type": "markdown",
   "metadata": {},
   "source": [
    "## Learning objectives"
   ]
  },
  {
   "cell_type": "markdown",
   "metadata": {},
   "source": [
    "Welcome to Part B of the Frequentist inference case study! The purpose of this case study is to help you apply the concepts associated with Frequentist inference in Python. In particular, you'll practice writing Python code to apply the following statistical concepts: \n",
    "* the _z_-statistic\n",
    "* the _t_-statistic\n",
    "* the difference and relationship between the two\n",
    "* the Central Limit Theorem, including its assumptions and consequences\n",
    "* how to estimate the population mean and standard deviation from a sample\n",
    "* the concept of a sampling distribution of a test statistic, particularly for the mean\n",
    "* how to combine these concepts to calculate a confidence interval"
   ]
  },
  {
   "cell_type": "markdown",
   "metadata": {},
   "source": [
    "In the previous notebook, we used only data from a known normal distribution. **You'll now tackle real data, rather than simulated data, and answer some relevant real-world business problems using the data.**"
   ]
  },
  {
   "cell_type": "markdown",
   "metadata": {},
   "source": [
    "## Hospital medical charges"
   ]
  },
  {
   "cell_type": "markdown",
   "metadata": {},
   "source": [
    "Imagine that a hospital has hired you as their data scientist. An administrator is working on the hospital's business operations plan and needs you to help them answer some business questions. \n",
    "\n",
    "In this assignment notebook, you're going to use frequentist statistical inference on a data sample to answer the questions:\n",
    "* has the hospital's revenue stream fallen below a key threshold?\n",
    "* are patients with insurance really charged different amounts than those without?\n",
    "\n",
    "Answering that last question with a frequentist approach makes some assumptions, and requires some knowledge, about the two groups."
   ]
  },
  {
   "cell_type": "markdown",
   "metadata": {},
   "source": [
    "We are going to use some data on medical charges obtained from [Kaggle](https://www.kaggle.com/easonlai/sample-insurance-claim-prediction-dataset). \n",
    "\n",
    "For the purposes of this exercise, assume the observations are the result of random sampling from our single hospital. Recall that in the previous assignment, we introduced the Central Limit Theorem (CLT), and its consequence that the distributions of sample statistics approach a normal distribution as $n$ increases. The amazing thing about this is that it applies to the sampling distributions of statistics that have been calculated from even highly non-normal distributions of data! Recall, also, that hypothesis testing is very much based on making inferences about such sample statistics. You're going to rely heavily on the CLT to apply frequentist (parametric) tests to answer the questions in this notebook."
   ]
  },
  {
   "cell_type": "code",
   "execution_count": 38,
   "metadata": {},
   "outputs": [],
   "source": [
    "import pandas as pd\n",
    "import numpy as np\n",
    "import matplotlib.pyplot as plt\n",
    "import scipy.stats as scs\n",
    "from numpy.random import seed\n",
    "medical = pd.read_csv('C:\\\\Users\\\\Anne\\\\Documents\\\\SPRINGBOARDGITHUB\\\\TheFoxerine\\\\11_1_Frequentist_Case_Study\\\\insurance2.csv')"
   ]
  },
  {
   "cell_type": "code",
   "execution_count": 39,
   "metadata": {},
   "outputs": [
    {
     "data": {
      "text/plain": [
       "(1338, 8)"
      ]
     },
     "execution_count": 39,
     "metadata": {},
     "output_type": "execute_result"
    }
   ],
   "source": [
    "medical.shape"
   ]
  },
  {
   "cell_type": "code",
   "execution_count": 40,
   "metadata": {},
   "outputs": [
    {
     "data": {
      "text/html": [
       "<div>\n",
       "<style scoped>\n",
       "    .dataframe tbody tr th:only-of-type {\n",
       "        vertical-align: middle;\n",
       "    }\n",
       "\n",
       "    .dataframe tbody tr th {\n",
       "        vertical-align: top;\n",
       "    }\n",
       "\n",
       "    .dataframe thead th {\n",
       "        text-align: right;\n",
       "    }\n",
       "</style>\n",
       "<table border=\"1\" class=\"dataframe\">\n",
       "  <thead>\n",
       "    <tr style=\"text-align: right;\">\n",
       "      <th></th>\n",
       "      <th>age</th>\n",
       "      <th>sex</th>\n",
       "      <th>bmi</th>\n",
       "      <th>children</th>\n",
       "      <th>smoker</th>\n",
       "      <th>region</th>\n",
       "      <th>charges</th>\n",
       "      <th>insuranceclaim</th>\n",
       "    </tr>\n",
       "  </thead>\n",
       "  <tbody>\n",
       "    <tr>\n",
       "      <th>0</th>\n",
       "      <td>19</td>\n",
       "      <td>0</td>\n",
       "      <td>27.900</td>\n",
       "      <td>0</td>\n",
       "      <td>1</td>\n",
       "      <td>3</td>\n",
       "      <td>16884.92400</td>\n",
       "      <td>1</td>\n",
       "    </tr>\n",
       "    <tr>\n",
       "      <th>1</th>\n",
       "      <td>18</td>\n",
       "      <td>1</td>\n",
       "      <td>33.770</td>\n",
       "      <td>1</td>\n",
       "      <td>0</td>\n",
       "      <td>2</td>\n",
       "      <td>1725.55230</td>\n",
       "      <td>1</td>\n",
       "    </tr>\n",
       "    <tr>\n",
       "      <th>2</th>\n",
       "      <td>28</td>\n",
       "      <td>1</td>\n",
       "      <td>33.000</td>\n",
       "      <td>3</td>\n",
       "      <td>0</td>\n",
       "      <td>2</td>\n",
       "      <td>4449.46200</td>\n",
       "      <td>0</td>\n",
       "    </tr>\n",
       "    <tr>\n",
       "      <th>3</th>\n",
       "      <td>33</td>\n",
       "      <td>1</td>\n",
       "      <td>22.705</td>\n",
       "      <td>0</td>\n",
       "      <td>0</td>\n",
       "      <td>1</td>\n",
       "      <td>21984.47061</td>\n",
       "      <td>0</td>\n",
       "    </tr>\n",
       "    <tr>\n",
       "      <th>4</th>\n",
       "      <td>32</td>\n",
       "      <td>1</td>\n",
       "      <td>28.880</td>\n",
       "      <td>0</td>\n",
       "      <td>0</td>\n",
       "      <td>1</td>\n",
       "      <td>3866.85520</td>\n",
       "      <td>1</td>\n",
       "    </tr>\n",
       "  </tbody>\n",
       "</table>\n",
       "</div>"
      ],
      "text/plain": [
       "   age  sex     bmi  children  smoker  region      charges  insuranceclaim\n",
       "0   19    0  27.900         0       1       3  16884.92400               1\n",
       "1   18    1  33.770         1       0       2   1725.55230               1\n",
       "2   28    1  33.000         3       0       2   4449.46200               0\n",
       "3   33    1  22.705         0       0       1  21984.47061               0\n",
       "4   32    1  28.880         0       0       1   3866.85520               1"
      ]
     },
     "execution_count": 40,
     "metadata": {},
     "output_type": "execute_result"
    }
   ],
   "source": [
    "medical.head()"
   ]
  },
  {
   "cell_type": "markdown",
   "metadata": {},
   "source": [
    "__Q1:__ Plot the histogram of charges and calculate the mean and standard deviation. Comment on the appropriateness of these statistics for the data."
   ]
  },
  {
   "cell_type": "markdown",
   "metadata": {},
   "source": [
    "__A: \n",
    "The mean of medical charges is $13,270.42 and the standard deviation is +/-12,110.01. \n",
    "\n",
    "The distribution of the charges is skewed to the right (positive skewdness). \n",
    "\n",
    "Plotting the distribution with different bin sizes (10,20,40) suggest a trimodal distribution:\n",
    "    - The first distribution goes from 0 to the mean (or ~ $13,000)\n",
    "    - The second distribution goes from the mean to about $30,000\n",
    "    - The last distribution goes from $30,000 to $50,000.\n",
    "    \n",
    "The calculated stats (mean and std) are not helpful here because the distribution is not a normal distribution."
   ]
  },
  {
   "cell_type": "code",
   "execution_count": 41,
   "metadata": {},
   "outputs": [
    {
     "name": "stdout",
     "output_type": "stream",
     "text": [
      "the mean of charges is:  13270.42  and the standard deviation is:  12110.01\n"
     ]
    },
    {
     "data": {
      "image/png": "[encoded data removed]",
      "text/plain": [
       "<Figure size 432x288 with 1 Axes>"
      ]
     },
     "metadata": {
      "needs_background": "light"
     },
     "output_type": "display_data"
    },
    {
     "data": {
      "image/png": "[encoded data removed]",
      "text/plain": [
       "<Figure size 432x288 with 1 Axes>"
      ]
     },
     "metadata": {
      "needs_background": "light"
     },
     "output_type": "display_data"
    },
    {
     "data": {
      "image/png": "[encoded data removed]",
      "text/plain": [
       "<Figure size 432x288 with 1 Axes>"
      ]
     },
     "metadata": {
      "needs_background": "light"
     },
     "output_type": "display_data"
    }
   ],
   "source": [
    "# I am calculating the mean and std of medical charges first to plot these stats in the histogram. \n",
    "# The divisor for std is n-1 (ddof is passed in charges_std)\n",
    "charges_mean=np.mean(medical.charges)\n",
    "charges_std=np.std(medical.charges, ddof=1)\n",
    "print('the mean of charges is: ',round(charges_mean,2),' and the standard deviation is: ',round(charges_std,2))\n",
    "\n",
    "# Plotting the histogran showing the distribution of medical charges with 20 bins\n",
    "_ =plt.hist(medical.charges,bins=20,color='palegoldenrod')\n",
    "_ =plt.xlabel('Medical Charges in $')\n",
    "_ =plt.ylabel('Number of Charges')\n",
    "_ =plt.title('Distribution of Medical Charges (20bins)')\n",
    "_ = plt.axvline(charges_mean, color='crimson', linestyle='-')\n",
    "_ = plt.axvline(charges_mean+charges_std, color='crimson', linestyle=':')\n",
    "_ = plt.axvline(charges_mean-charges_std, color='crimson', linestyle=':')\n",
    "plt.show()\n",
    "\n",
    "# Plotting the histogran showing the distribution of medical charges with 10 bins\n",
    "_ =plt.hist(medical.charges,bins=10,color='palegoldenrod')\n",
    "_ =plt.xlabel('Medical Charges in $')\n",
    "_ =plt.ylabel('Number of Charges')\n",
    "_ =plt.title('Distribution of Medical Charges (10 bins)')\n",
    "_ = plt.axvline(charges_mean, color='crimson', linestyle='-')\n",
    "_ = plt.axvline(charges_mean+charges_std, color='crimson', linestyle=':')\n",
    "_ = plt.axvline(charges_mean-charges_std, color='crimson', linestyle=':')\n",
    "plt.show()\n",
    "\n",
    "# Plotting the histogran showing the distribution of medical charges with 40 bins\n",
    "_ =plt.hist(medical.charges,bins=40,color='palegoldenrod')\n",
    "_ =plt.xlabel('Medical Charges in $')\n",
    "_ =plt.ylabel('Number of Charges')\n",
    "_ =plt.title('Distribution of Medical Charges (40 bins)')\n",
    "_ = plt.axvline(charges_mean, color='crimson', linestyle='-')\n",
    "_ = plt.axvline(charges_mean+charges_std, color='crimson', linestyle=':')\n",
    "_ = plt.axvline(charges_mean-charges_std, color='crimson', linestyle=':')\n",
    "plt.show()"
   ]
  },
  {
   "cell_type": "code",
   "execution_count": null,
   "metadata": {},
   "outputs": [],
   "source": []
  },
  {
   "cell_type": "markdown",
   "metadata": {},
   "source": [
    "__Q2:__ The administrator is concerned that the actual average charge has fallen below 12,000, threatening the hospital's operational model. On the assumption that these data represent a random sample of charges, how would you justify that these data allow you to answer that question? And what would be the most appropriate frequentist test, of the ones discussed so far, to apply?"
   ]
  },
  {
   "cell_type": "markdown",
   "metadata": {},
   "source": [
    "__A: The distribution of the medical charges is rather complicated to work with which makes it a good case for bootstrapping or t-stats test. Bootstrapping could assess the properties of the distribution. T-test can help us rejecting or accpeting the null hypothesis which is 'the average mean of charges falls below $12,000'. It looks like T-test will be applied in this case."
   ]
  },
  {
   "cell_type": "markdown",
   "metadata": {},
   "source": [
    "__Q3:__ Given the nature of the administrator's concern, what is the appropriate confidence interval in this case? A ***one-sided*** or ***two-sided*** interval? (Refresh your understanding of this concept on p. 399 of the *AoS*). Calculate the critical value and the relevant 95% confidence interval for the mean, and comment on whether the administrator should be concerned."
   ]
  },
  {
   "cell_type": "markdown",
   "metadata": {},
   "source": [
    "__A: The t-stats will provide the ratio of the departure of the known mean ($13,270) from its hypothesized value ($12,000) to its standard error. This is a one-sided confidence interval, with a negative tail (tail to the left). Picturing a distribution curve, the 'fail area' would be to the left of $12,000 because the administrator does not want the mean medical charge to fall below this amount.\n",
    "Assuming a confidence interval of 95%, a degree of freedom of '1338-1', I use scipy t.ppf to get the critical value t. Then I use the value to calculate the left bound of the confidence interval.\n",
    "\n",
    "The results are :\n",
    "     t is -1.65.\n",
    "     the left bound of the confidence interval is $12,725.\n",
    "     there is no right bound because it is a one-side (left) tailed test.\n",
    "     \n",
    "The administrator should not be concerned because the lower bound of the confidence interval is above the $12,000 operation threshold.\n",
    "\n",
    "Then I ran a t-test assuming the null hypothesis is \"the mean charges will fall under $12,000\" using scipy ttest_1samp. I had to divide p by 2 because ttest_1samp runs a double tailed test. The result of the test rejects the null hypothesis - p(12,000)<<p(pop). Therefore the administrator should not worry.\n",
    "  "
   ]
  },
  {
   "cell_type": "code",
   "execution_count": 58,
   "metadata": {},
   "outputs": [
    {
     "name": "stdout",
     "output_type": "stream",
     "text": [
      "the critical value  1.65  covers 95% of the observation in the distribution\n",
      "the left bound of the confidence interval is:  12725.28  which is above $12,000\n",
      "t: 3.8373517196585314\n",
      "p: 0.000130171652092872\n",
      "Reject Null Hypothesis\n"
     ]
    }
   ],
   "source": [
    "# Calculate the critical value and the relevant 95% confidence interval for the mean,\n",
    "\n",
    "# To get the critical value  for a confidence interval of 95%\n",
    "# I am using t.ppf from scipy using a degree of freedom n-1\n",
    "prob=0.95\n",
    "deg_freedom=1337\n",
    "tvalue = t.ppf(prob, deg_freedom)\n",
    "print('the critical value ', round(tvalue,2), ' covers 95% of the observation in the distribution')\n",
    "moe=tvalue*charges_std/(np.sqrt(1337))\n",
    "left_bound=charges_mean-moe\n",
    "print('the left bound of the confidence interval is: ',round(left_bound,2),' which is above $12,000')\n",
    "\n",
    "# the t-test function provided by scipy does a two-tail test.\n",
    "# So I am using the function below to divide p by 2 to get a one tail\n",
    "# The function t_one_tailed has the option to be left sided or right sided by passing\n",
    "# the alternative argument \"greater\" or \"less\", respectively.\n",
    "def t_one_tailed(data, popmean, alpha=0.05, alternative='greater'):\n",
    "    tv, p = scs.ttest_1samp(data, popmean)\n",
    "    print ('t:',tv)\n",
    "    print ('p:',p)\n",
    "    if alternative == 'greater' and (p/2 < alpha) and tv > 0:\n",
    "        print ('Reject Null Hypothesis')\n",
    "    if alternative == 'less' and (p/2 < alpha) and tv < 0:\n",
    "        print ('Reject Null Hypothesis')\n",
    "       \n",
    "t_one_tailed(medical.charges,12000,alpha=0.05,alternative='greater')"
   ]
  },
  {
   "cell_type": "code",
   "execution_count": null,
   "metadata": {},
   "outputs": [],
   "source": []
  },
  {
   "cell_type": "code",
   "execution_count": null,
   "metadata": {},
   "outputs": [],
   "source": []
  },
  {
   "cell_type": "markdown",
   "metadata": {},
   "source": [
    "The administrator then wants to know whether people with insurance really are charged a different amount to those without.\n",
    "\n",
    "__Q4:__ State the null and alternative hypothesis here. Use the _t_-test for the difference between means, where the pooled standard deviation of the two groups is given by:\n",
    "\\begin{equation}\n",
    "s_p = \\sqrt{\\frac{(n_0 - 1)s^2_0 + (n_1 - 1)s^2_1}{n_0 + n_1 - 2}}\n",
    "\\end{equation}\n",
    "\n",
    "and the *t*-test statistic is then given by:\n",
    "\n",
    "\\begin{equation}\n",
    "t = \\frac{\\bar{x}_0 - \\bar{x}_1}{s_p \\sqrt{1/n_0 + 1/n_1}}.\n",
    "\\end{equation}\n",
    "\n",
    "(If you need some reminding of the general definition of ***t-statistic***, check out the definition on p. 404 of *AoS*). \n",
    "\n",
    "What assumption about the variances of the two groups are we making here?"
   ]
  },
  {
   "cell_type": "markdown",
   "metadata": {},
   "source": [
    "__A:\n",
    "In t-test we assume that the variance of the two groups are the same in the standard deviation.\n",
    "\n",
    "The null hypothesis is \"people with insurance are charged the same amount that the one without insurance\". \n",
    "\n",
    "The alternate hypothesis is \"people without insurance are charged a different amount\".\n",
    "\n",
    "In other word, we are expecting the average charges to be same or different, respectively."
   ]
  },
  {
   "cell_type": "markdown",
   "metadata": {},
   "source": [
    "__Q5:__ Perform this hypothesis test both manually, using the above formulae, and then using the appropriate function from [scipy.stats](https://docs.scipy.org/doc/scipy/reference/stats.html#statistical-tests) (hint, you're looking for a function to perform a _t_-test on two independent samples). For the manual approach, calculate the value of the test statistic and then its probability (the p-value). Verify you get the same results from both."
   ]
  },
  {
   "cell_type": "markdown",
   "metadata": {},
   "source": [
    "__A:__ "
   ]
  },
  {
   "cell_type": "code",
   "execution_count": 71,
   "metadata": {},
   "outputs": [
    {
     "name": "stdout",
     "output_type": "stream",
     "text": [
      "    age  sex    bmi  children  smoker  region     charges  insuranceclaim\n",
      "0    19    0  27.90         0       1       3  16884.9240               1\n",
      "1    18    1  33.77         1       0       2   1725.5523               1\n",
      "4    32    1  28.88         0       0       1   3866.8552               1\n",
      "6    46    0  33.44         1       0       2   8240.5896               1\n",
      "10   25    1  26.22         0       0       0   2721.3208               1\n",
      "   age  sex     bmi  children  smoker  region      charges  insuranceclaim\n",
      "2   28    1  33.000         3       0       2   4449.46200               0\n",
      "3   33    1  22.705         0       0       1  21984.47061               0\n",
      "5   31    0  25.740         0       0       2   3756.62160               0\n",
      "7   37    0  27.740         3       0       1   7281.50560               0\n",
      "8   37    1  29.830         2       0       0   6406.41070               0\n"
     ]
    }
   ],
   "source": [
    "# manually...\n",
    "# Extracting parameters...\n",
    "# The table 'insured' will contain all the information from insured patients.\n",
    "# The table 'notinsured' will contain all the information from non-insured patients.\n",
    "insured=medical[medical.insuranceclaim==1]\n",
    "notinsured=medical[medical.insuranceclaim==0]\n",
    "print(insured.head())\n",
    "print(notinsured.head())\n",
    "\n",
    "# Parameters needed for the calculation\n",
    "n0=len(insured.charges)\n",
    "n1=len(notinsured.charges)\n",
    "s0=np.std(insured.charges, ddof=1)\n",
    "s1=np.std(notinsured.charges, ddof=1)\n",
    "x0=np.mean(insured.charges)\n",
    "x1=np.mean(notinsured.charges)\n"
   ]
  },
  {
   "cell_type": "code",
   "execution_count": 78,
   "metadata": {},
   "outputs": [
    {
     "name": "stdout",
     "output_type": "stream",
     "text": [
      "11520.03 11.89\n",
      "A t-table for t(0.05,1000+) gives a value of 1.645.\n",
      "The calculated t value,  11.89329903087671  is superior to the expected 1.645 value.\n",
      "The null hypothesis can be rejected.\n",
      "People with insurance are not charge the same amount as people without insurance.\n"
     ]
    }
   ],
   "source": [
    "# manual calculation\n",
    "sp=np.sqrt((((n0-1)*s0**2)+((n1-1)*s1**2))/(n0+n1-2))\n",
    "tt=(x0-x1)/(sp*np.sqrt((1/n0)+(1/n1)))\n",
    "\n",
    "print(round(sp,2),round(tt,2))\n",
    "print('A t-table for t(0.05,1000+) gives a value of 1.645.\\nThe calculated t value, ',tt,' is superior to the expected 1.645 value.\\nThe null hypothesis can be rejected.\\nPeople with insurance are not charge the same amount as people without insurance.')\n",
    "\n"
   ]
  },
  {
   "cell_type": "code",
   "execution_count": 79,
   "metadata": {},
   "outputs": [],
   "source": [
    "# I am using scipy ttest_ind which is a two-sided test for the null hypothesis \n",
    "# that 2 independent samples have identical average (expected) values. \n",
    "# This test assumes that the populations have identical variances by default\n",
    "def t_twosamples(data0,data1, alpha=0.05, expectedt=1.645):\n",
    "    tv, p = scs.ttest_ind(data0,data1)\n",
    "    print ('t:',tv)\n",
    "    print ('p:',p)\n",
    "    if expectedt<tv and (p/2 < alpha):\n",
    "        print ('Reject Null Hypothesis')\n",
    "    if expectedt>=tv and (p/2 < alpha):\n",
    "        print ('Accept Null Hypothesis')\n",
    "       \n"
   ]
  },
  {
   "cell_type": "code",
   "execution_count": 80,
   "metadata": {},
   "outputs": [
    {
     "name": "stdout",
     "output_type": "stream",
     "text": [
      "t: 11.893299030876712\n",
      "p: 4.461230231620717e-31\n",
      "Reject Null Hypothesis\n"
     ]
    }
   ],
   "source": [
    "t_twosamples(insured.charges,notinsured.charges,alpha=0.05,expectedt=1.645)"
   ]
  },
  {
   "cell_type": "markdown",
   "metadata": {},
   "source": [
    "Congratulations! Hopefully you got the exact same numerical results. This shows that you correctly calculated the numbers by hand. Secondly, you used the correct function and saw that it's much easier to use. All you need to do is pass your data to it."
   ]
  },
  {
   "cell_type": "markdown",
   "metadata": {},
   "source": [
    "__Q6:__ Conceptual question: look through the documentation for statistical test functions in scipy.stats. You'll see the above _t_-test for a sample, but can you see an equivalent one for performing a *z*-test from a sample? Comment on your answer."
   ]
  },
  {
   "cell_type": "markdown",
   "metadata": {},
   "source": [
    "__A: I cannot find an equivalent function using z-test in scipy. One of the reason to use a two sample t-test instead od a z-test is that for a t-test the variances  of the two samples are unknown and are assumed equal. The t-test function in Scipy allows for enabling and disabling this assumption by passing equal_var=True or equal_var=False, respectively."
   ]
  },
  {
   "cell_type": "markdown",
   "metadata": {},
   "source": [
    "## Learning outcomes"
   ]
  },
  {
   "cell_type": "markdown",
   "metadata": {},
   "source": [
    "Having completed this project notebook, you now have good hands-on experience:\n",
    "* using the central limit theorem to help you apply frequentist techniques to answer questions that pertain to very non-normally distributed data from the real world\n",
    "* performing inference using such data to answer business questions\n",
    "* forming a hypothesis and framing the null and alternative hypotheses\n",
    "* testing this using a _t_-test"
   ]
  }
 ],
 "metadata": {
  "kernelspec": {
   "display_name": "Python 3",
   "language": "python",
   "name": "python3"
  },
  "language_info": {
   "codemirror_mode": {
    "name": "ipython",
    "version": 3
   },
   "file_extension": ".py",
   "mimetype": "text/x-python",
   "name": "python",
   "nbconvert_exporter": "python",
   "pygments_lexer": "ipython3",
   "version": "3.7.6"
  }
 },
 "nbformat": 4,
 "nbformat_minor": 4
}
